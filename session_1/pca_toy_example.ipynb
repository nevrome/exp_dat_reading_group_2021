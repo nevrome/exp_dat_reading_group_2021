{
 "cells": [
  {
   "cell_type": "markdown",
   "source": [
    "A toy example of PCA, taken from the 5x5 matrix from Reading: Menozzi, Piazza, and Cavalli-Sforza, “Synthetic Maps of Human Gene Frequencies in Europeans”"
   ],
   "metadata": {}
  },
  {
   "cell_type": "code",
   "execution_count": 2,
   "source": [
    "import numpy as np\n",
    "import matplotlib.pyplot as plt"
   ],
   "outputs": [],
   "metadata": {}
  },
  {
   "cell_type": "code",
   "execution_count": 3,
   "source": [
    "# load the data matrix\n",
    "X = np.array([[20, 69, 11, 34, 0], \n",
    "[15, 60, 60, 19, 2], \n",
    "[36, 65, 42, 8, 0], \n",
    "[2, 90, 70, 35, 9], \n",
    "[0, 76, 99, 30, 0]])\n",
    "# center each feature\n",
    "X = X - np.mean(X, axis=0)\n",
    "U, S, VH = np.linalg.svd(X)\n",
    "projected = X@((VH.T)[:,:2])\n",
    "print(projected)"
   ],
   "outputs": [
    {
     "output_type": "stream",
     "name": "stdout",
     "text": [
      "[[-43.4221346  -16.5196926 ]\n",
      " [  0.55095462  11.13366308]\n",
      " [-23.29939135  20.20005968]\n",
      " [ 21.00583004 -17.23034917]\n",
      " [ 45.16474129   2.41631901]]\n"
     ]
    }
   ],
   "metadata": {}
  },
  {
   "cell_type": "code",
   "execution_count": 25,
   "source": [
    "# alternatively, calculate the covariance matrix explicitly\n",
    "cov = X.T@X\n",
    "W, U_eig = np.linalg.eig(cov)\n",
    "X@U_eig[:,:2]"
   ],
   "outputs": [
    {
     "output_type": "execute_result",
     "data": {
      "text/plain": [
       "array([[-43.4221346 , -16.5196926 ],\n",
       "       [  0.55095462,  11.13366308],\n",
       "       [-23.29939135,  20.20005968],\n",
       "       [ 21.00583004, -17.23034917],\n",
       "       [ 45.16474129,   2.41631901]])"
      ]
     },
     "metadata": {},
     "execution_count": 25
    }
   ],
   "metadata": {}
  },
  {
   "cell_type": "code",
   "execution_count": 4,
   "source": [
    "plt.scatter(projected[:,0], projected[:,1])"
   ],
   "outputs": [
    {
     "output_type": "execute_result",
     "data": {
      "text/plain": [
       "<matplotlib.collections.PathCollection at 0x11cc17430>"
      ]
     },
     "metadata": {},
     "execution_count": 4
    },
    {
     "output_type": "display_data",
     "data": {
      "image/png": "[encoded data removed]",
      "text/plain": [
       "<Figure size 432x288 with 1 Axes>"
      ]
     },
     "metadata": {
      "needs_background": "light"
     }
    }
   ],
   "metadata": {}
  },
  {
   "cell_type": "code",
   "execution_count": 24,
   "source": [
    "from sklearn.decomposition import PCA\n",
    "pca = PCA(n_components=2)\n",
    "pca.fit_transform(X)"
   ],
   "outputs": [
    {
     "output_type": "execute_result",
     "data": {
      "text/plain": [
       "array([[-43.4221346 , -16.5196926 ],\n",
       "       [  0.55095462,  11.13366308],\n",
       "       [-23.29939135,  20.20005968],\n",
       "       [ 21.00583004, -17.23034917],\n",
       "       [ 45.16474129,   2.41631901]])"
      ]
     },
     "metadata": {},
     "execution_count": 24
    }
   ],
   "metadata": {}
  }
 ],
 "metadata": {
  "orig_nbformat": 4,
  "language_info": {
   "name": "python",
   "version": "3.9.6",
   "mimetype": "text/x-python",
   "codemirror_mode": {
    "name": "ipython",
    "version": 3
   },
   "pygments_lexer": "ipython3",
   "nbconvert_exporter": "python",
   "file_extension": ".py"
  },
  "kernelspec": {
   "name": "python3",
   "display_name": "Python 3.9.6 64-bit ('base': conda)"
  },
  "interpreter": {
   "hash": "92a350d270de0fdb103c9ac7416d89e003f640787abb765adc9d8a3d290308f3"
  }
 },
 "nbformat": 4,
 "nbformat_minor": 2
}