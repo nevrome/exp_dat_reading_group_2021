{
 "cells": [
  {
   "cell_type": "markdown",
   "id": "7d8a7a61",
   "metadata": {
    "tags": []
   },
   "source": [
    "# 2.1 Getting genotype data\n",
    "We are going to use Poseidon (https://poseidon-framework.github.io/#/) to easily retrieve genotype data together with some useful annotation. The tool for accessing the Poseidon package repository is named `trident`, and if you followed the recommendation for installing the conda environment above, you should have it installed already. To make sure, check with `which trident` and `trident --version`.\n",
    "\n",
    "`trident` is a command line tool to manage Poseidon packages. Here we'll use it to automatically download packages that we need for this session. You can list all available packages like so:"
   ]
  },
  {
   "cell_type": "code",
   "execution_count": 1,
   "id": "9a660bf7",
   "metadata": {},
   "outputs": [
    {
     "name": "stdout",
     "output_type": "stream",
     "text": [
      "trident v0.21.0 for poseidon v2.4.0\n",
      "https://poseidon-framework.github.io\n",
      "\n",
      "Downloading sample list from remote\n",
      "Preparing output table\n",
      "found 146 packages\n",
      ".-----------------------------------------.----------------.\n",
      "|                  Title                  | Nr Individuals |\n",
      ":=========================================:================:\n",
      "| 2010_RasmussenNature                    | 1              |\n",
      "| 2012_KellerNatureCommunications         | 1              |\n",
      "| 2012_MeyerScience                       | 6              |\n",
      "| 2012_PattersonGenetics                  | 1036           |\n",
      "| 2012_PickrellNatureCommunications       | 9              |\n",
      "| 2014_FuNature                           | 1              |\n",
      "| 2014_GambaNatureCommunications          | 13             |\n",
      "| 2014_LazaridisNature                    | 1222           |\n",
      "| 2014_MalaspinasCurrentBiology           | 2              |\n",
      "| 2014_OlaldeNature                       | 1              |\n",
      "| 2014_RaghavanNature                     | 6              |\n",
      "| 2014_RaghavanScience                    | 4              |\n",
      "| 2014_RasmussenNature                    | 3              |\n",
      "| 2014_SeguinOrlandoScience               | 1              |\n",
      "| 2014_SkoglundScience                    | 11             |\n",
      "| 2015_1000Genomes_1240K_haploid_pulldown | 2535           |\n",
      "| 2015_AllentoftNature                    | 98             |\n",
      "| 2015_CassidyPNAS                        | 4              |\n",
      "| 2015_FuNature                           | 1              |\n",
      "| 2015_GuntherPNAS                        | 5              |\n",
      "| 2015_JonesNatureCommunications          | 3              |\n",
      "| 2015_LlorenteScience                    | 1              |\n",
      "| 2015_MathiesonNature                    | 142            |\n",
      "| 2015_OlaldeMBE                          | 1              |\n",
      "| 2015_RaghavanScience                    | 23             |\n",
      "| 2015_RasmussenNature                    | 1              |\n",
      "| 2016_BroushakiScience                   | 5              |\n",
      "| 2016_FuNature                           | 40             |\n",
      "| 2016_HofmanovaPNAS                      | 5              |\n",
      "| 2016_JeongPNAS                          | 8              |\n",
      "| 2016_KanzawaJHG                         | 5              |\n",
      "| 2016_KilincCurrentBiology               | 9              |\n",
      "| 2016_LazaridisNature                    | 169            |\n",
      "| 2016_Mallick_SGDP1240K_diploid_pulldown | 280            |\n",
      "| 2016_MartinianoNatureCommunications     | 9              |\n",
      "| 2016_MondalNatureGenetics               | 70             |\n",
      "| 2016_OmrakCurrentBiology                | 2              |\n",
      "| 2016_SchiffelsNatureCommunications      | 10             |\n",
      "| 2016_SkoglundNature                     | 74             |\n",
      "| 2017_GonzalesFortesCurrentBiology       | 6              |\n",
      "| 2017_HaberAJHG                          | 5              |\n",
      "| 2017_JonesCurrentBiology                | 8              |\n",
      "| 2017_KennettNatureCommunications        | 5              |\n",
      "| 2017_LazaridisNature                    | 20             |\n",
      "| 2017_LindoPNAS                          | 1              |\n",
      "| 2017_LipsonNature                       | 138            |\n",
      "| 2017_MartinianoPLoSGenetics             | 14             |\n",
      "| 2017_PrueferScience                     | 2              |\n",
      "| 2017_RodriguezVarelaCurrentBiology      | 5              |\n",
      "| 2017_SaagCurrentBiology                 | 7              |\n",
      "| 2017_SchlebuschScience                  | 7              |\n",
      "| 2017_Schuenemann_EgyptianMummies        | 3              |\n",
      "| 2017_SikoraScience                      | 7              |\n",
      "| 2017_SkoglundCell                       | 59             |\n",
      "| 2017_UnterlanderNatureCommunications    | 8              |\n",
      "| 2017_VanDenBrink                        | 2              |\n",
      "| 2017_VyasAJPA                           | 93             |\n",
      "| 2017_YangCurrentBiology                 | 1              |\n",
      "| 2018_AmorimNatureCommunications         | 63             |\n",
      "| 2018_DamgaardNature                     | 137            |\n",
      "| 2018_DamgaardScience                    | 111            |\n",
      "| 2018_Ebenesersdottir_Iceland            | 27             |\n",
      "| 2018_FernandesScientificReports         | 17             |\n",
      "| 2018_FregelPNAS                         | 12             |\n",
      "| 2018_GuntherPLoSBiology                 | 7              |\n",
      "| 2018_HarneyMayNatureCommunications      | 22             |\n",
      "| 2018_Jeong_EurasianSteppe               | 20             |\n",
      "| 2018_KrzewinskaCurrentBiology           | 23             |\n",
      "| 2018_KrzewinskaScienceAdvances          | 35             |\n",
      "| 2018_Lamnidis_Fennoscandia              | 16             |\n",
      "| 2018_LindoScienceAdvances               | 7              |\n",
      "| 2018_LipsonCurrentBiology               | 22             |\n",
      "| 2018_LipsonScience                      | 25             |\n",
      "| 2018_MathiesonNature                    | 226            |\n",
      "| 2018_McCollScience                      | 28             |\n",
      "| 2018_Mittnik_Baltic                     | 39             |\n",
      "| 2018_MorenoMayarNature                  | 2              |\n",
      "| 2018_MorenoMayarScience                 | 17             |\n",
      "| 2018_OlaldeNature                       | 398            |\n",
      "| 2018_PosthNatureEcologyEvolution        | 19             |\n",
      "| 2018_Posth_SouthAmerica                 | 50             |\n",
      "| 2018_ScheibScience                      | 75             |\n",
      "| 2018_SchroederPNAS                      | 1              |\n",
      "| 2018_ValdioseraPNAS                     | 11             |\n",
      "| 2018_VanDeLoosdrecht_Morrocco           | 7              |\n",
      "| 2018_VeeramahPNAS                       | 41             |\n",
      "| 2018_Zalloua_Phoenician                 | 1              |\n",
      "| 2018_delaFuentePNAS                     | 4              |\n",
      "| 2019_Antonio_AncientRome                | 134            |\n",
      "| 2019_Biagini_Spain                      | 120            |\n",
      "| 2019_BraceNatureEcologyEvolution        | 14             |\n",
      "| 2019_Brace_Britain                      | 56             |\n",
      "| 2019_Feldman_Anatolia                   | 8              |\n",
      "| 2019_Feldman_Philistines                | 10             |\n",
      "| 2019_Flegontov_PalaeoEskimo             | 107            |\n",
      "| 2019_GonzalesFortes_Iberia              | 4              |\n",
      "| 2019_Haber_Crusaders                    | 13             |\n",
      "| 2019_Harney_LakeRoopkund                | 38             |\n",
      "| 2019_Jarve_Scythian                     | 31             |\n",
      "| 2019_Jeong_InnerEurasia                 | 765            |\n",
      "| 2019_Malmstrom_Scandinavia              | 11             |\n",
      "| 2019_Mittnik_BAEurope                   | 118            |\n",
      "| 2019_Narasimhan_centralSouthAsia        | 542            |\n",
      "| 2019_Nikitin_LBK                        | 2              |\n",
      "| 2019_Ning_Tianshan                      | 11             |\n",
      "| 2019_Olalde_Iberia                      | 277            |\n",
      "| 2019_Prendergast_EastAfrica             | 43             |\n",
      "| 2019_Saag_EasternBaltic                 | 56             |\n",
      "| 2019_SanchezQuinto_Megalithic           | 26             |\n",
      "| 2019_Schroeder_Poland                   | 24             |\n",
      "| 2019_Shinde_Harappan                    | 1              |\n",
      "| 2019_Sikora_NorthEastSiberia            | 31             |\n",
      "| 2019_Villalba_Iberia                    | 11             |\n",
      "| 2019_Wang_Caucasus                      | 49             |\n",
      "| 2020_AgranatTamir_LevantBA              | 73             |\n",
      "| 2020_Bergstrom_HGDP                     | 929            |\n",
      "| 2020_Bongers_SouthPeru                  | 6              |\n",
      "| 2020_Brunel_France                      | 58             |\n",
      "| 2020_Cassidy_IrishDynastic              | 42             |\n",
      "| 2020_Fernandes_Caribbean                | 174            |\n",
      "| 2020_Fernandes_westernMediterranean     | 62             |\n",
      "| 2020_Furtwaengler_Switzerland           | 96             |\n",
      "| 2020_Haber_NearEast                     | 19             |\n",
      "| 2020_Immel_Moldova                      | 3              |\n",
      "| 2020_Linderholm_Poland                  | 19             |\n",
      "| 2020_Lipson_WestAfrica                  | 7              |\n",
      "| 2020_Marcus_Sardinia                    | 70             |\n",
      "| 2020_Margaryan_Viking                   | 442            |\n",
      "| 2020_Nagele_Caribbean                   | 93             |\n",
      "| 2020_Nakatsuka_Andes                    | 61             |\n",
      "| 2020_Nakatsuka_SouthPatagonia           | 20             |\n",
      "| 2020_NievesColon_PuertoRico             | 2              |\n",
      "| 2020_Ning_China                         | 55             |\n",
      "| 2020_Rivollat_FranceGermany             | 101            |\n",
      "| 2020_Skourtanioti_NearEast              | 110            |\n",
      "| 2020_TeschlerNicola_UpperPaleoTwin      | 3              |\n",
      "| 2020_Wang_subSaharanAfrica              | 20             |\n",
      "| 2020_Yang_China                         | 24             |\n",
      "| 2020_Yu_NorthRussia                     | 19             |\n",
      "| 2021_Freilich_Croatia                   | 28             |\n",
      "| 2021_GnecchiRuscone_KazakhSteppe        | 117            |\n",
      "| 2021_Kilinc_northeastAsia               | 40             |\n",
      "| 2021_Saag_EastEuropean                  | 47             |\n",
      "| 2021_Wang_EastAsia                      | 574            |\n",
      "| Archaic_Humans                          | 12             |\n",
      "| Reference_Genomes                       | 4              |\n",
      "'-----------------------------------------'----------------'\n"
     ]
    }
   ],
   "source": [
    "!trident list --remote --packages"
   ]
  },
  {
   "cell_type": "markdown",
   "id": "1ef1a4f6",
   "metadata": {},
   "source": [
    "Here we specifically need packages `2012_PattersonGenetics`, `2014_LazaridisNature` and `2019_Jeong_InnerEurasia`, which contain a lot of present-day individuals from around the world, and `2014_RaghavanNature`, which contains a famous 22,000 year old individual from Siberia. Let's fetch those packages and copy them into a local folder called `session_2/poseidon-repository` within this repository:"
   ]
  },
  {
   "cell_type": "code",
   "execution_count": 2,
   "id": "53f59f4f",
   "metadata": {
    "scrolled": true
   },
   "outputs": [
    {
     "name": "stdout",
     "output_type": "stream",
     "text": [
      "trident v0.21.0 for poseidon v2.4.0\n",
      "https://poseidon-framework.github.io\n",
      "\n",
      "Searching POSEIDON.yml files... 4 found\n",
      "Checking Poseidon versions... \n",
      "Initializing packages... \n",
      "\u001b[2K\u001b[1G> 1 \u001b[2K\u001b[1G> 2 \u001b[2K\u001b[1G> 3 \u001b[2K\u001b[1G> 4 \n",
      "Packages loaded: 4\n",
      "Downloading package list from remote\n",
      "Determine requested packages... 4 requested and available\n",
      "Comparing local and remote package state\n",
      "Handling packages\n",
      "2012_PattersonGenetics                  local 1.0.1 = remote 1.0.1\n",
      "2014_LazaridisNature                    local 1.1.2 = remote 1.1.2\n",
      "2014_RaghavanNature                     local 1.1.0 = remote 1.1.0\n",
      "2019_Jeong_InnerEurasia                 local 1.1.2 = remote 1.1.2\n"
     ]
    }
   ],
   "source": [
    "!mkdir -p scratch/poseidon-repository\n",
    "# This will take a few seconds to pull the data from the server\n",
    "!trident fetch -d scratch/poseidon-repository -f \"*2012_PattersonGenetics*,*2014_LazaridisNature*,*2019_Jeong_InnerEurasia*,*2014_RaghavanNature*\""
   ]
  },
  {
   "cell_type": "markdown",
   "id": "fbf4f158",
   "metadata": {},
   "source": [
    "Great, now we have those packages. You can checkout the files, e.g.:"
   ]
  },
  {
   "cell_type": "code",
   "execution_count": 3,
   "id": "bcf0af83",
   "metadata": {},
   "outputs": [
    {
     "name": "stdout",
     "output_type": "stream",
     "text": [
      "2014_LazaridisNature.bed  2014_LazaridisNature.bim  2014_LazaridisNature.janno\r\n",
      "2014_LazaridisNature.bib  2014_LazaridisNature.fam  POSEIDON.yml\r\n"
     ]
    }
   ],
   "source": [
    "!ls scratch/poseidon-repository/2014_LazaridisNature"
   ]
  },
  {
   "cell_type": "markdown",
   "id": "5a2648f2",
   "metadata": {},
   "source": [
    "And you can see three genotype files (`.bed`, `.bim` and `.fam`) and an annotation file ending with `.janno`."
   ]
  },
  {
   "cell_type": "markdown",
   "id": "57f8b877",
   "metadata": {},
   "source": [
    "You can also view lots of things about those packages using `trident`. For example:"
   ]
  },
  {
   "cell_type": "code",
   "execution_count": null,
   "id": "d81da059",
   "metadata": {},
   "outputs": [],
   "source": [
    "!trident list --groups -d scratch/poseidon-repository/"
   ]
  },
  {
   "cell_type": "markdown",
   "id": "b1db76f4",
   "metadata": {},
   "source": [
    "or:"
   ]
  },
  {
   "cell_type": "code",
   "execution_count": null,
   "id": "a6d19a4f",
   "metadata": {
    "scrolled": true
   },
   "outputs": [],
   "source": [
    "!trident summarise -d scratch/poseidon-repository"
   ]
  },
  {
   "cell_type": "markdown",
   "id": "86e4e7c6",
   "metadata": {},
   "source": [
    "OK, for further analysis we want to merge these two packages. In `trident` we can use the `forge` command for that. But we first need a population list to know what we like to extract and merge. For this session, such a list is already provided, named `forge_file.txt`.\n",
    "\n",
    "Let's look at the `forge_file.txt`:"
   ]
  },
  {
   "cell_type": "code",
   "execution_count": null,
   "id": "f9c463eb",
   "metadata": {},
   "outputs": [],
   "source": [
    "!head forge_file.txt"
   ]
  },
  {
   "cell_type": "markdown",
   "id": "08c20b8e",
   "metadata": {},
   "source": [
    "OK, so there are many population names here, here is how many:"
   ]
  },
  {
   "cell_type": "code",
   "execution_count": null,
   "id": "f82314d2",
   "metadata": {},
   "outputs": [],
   "source": [
    "!wc -l forge_file.txt"
   ]
  },
  {
   "cell_type": "markdown",
   "id": "88478e57",
   "metadata": {},
   "source": [
    "So 120 populations. Let's use them to forge a new Poseidon package that contains only the genotype and metadata for individuals that belong to one of these 120 groups. Forge takes a number of options (check them out using `trident forge --help`), here we're just using a basic sequence of options (note this will take a few minutes):"
   ]
  },
  {
   "cell_type": "code",
   "execution_count": null,
   "id": "b74dbf8f",
   "metadata": {
    "scrolled": true,
    "tags": []
   },
   "outputs": [],
   "source": [
    "!trident forge -d scratch/poseidon-repository -o scratch/forged_package -n PCA_package_1 --forgeFile forge_file.txt --intersect --eigenstrat "
   ]
  },
  {
   "cell_type": "markdown",
   "id": "bcc7034e",
   "metadata": {},
   "source": [
    "Congratulations. You now have your genotype data ready to be used to compute PCAs and friends."
   ]
  }
 ],
 "metadata": {
  "kernelspec": {
   "display_name": "Python 3 (ipykernel)",
   "language": "python",
   "name": "python3"
  },
  "language_info": {
   "codemirror_mode": {
    "name": "ipython",
    "version": 3
   },
   "file_extension": ".py",
   "mimetype": "text/x-python",
   "name": "python",
   "nbconvert_exporter": "python",
   "pygments_lexer": "ipython3",
   "version": "3.7.10"
  }
 },
 "nbformat": 4,
 "nbformat_minor": 5
}
