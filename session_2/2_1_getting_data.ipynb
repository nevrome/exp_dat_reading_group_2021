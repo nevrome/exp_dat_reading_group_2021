{
 "cells": [
  {
   "cell_type": "markdown",
   "id": "7d8a7a61",
   "metadata": {
    "tags": []
   },
   "source": [
    "# 2.1 Getting genotype data\n",
    "We are going to use Poseidon (https://poseidon-framework.github.io/#/) to easily retrieve genotype data together with some useful annotation. The tool for accessing the Poseidon package repository is named `trident`, and if you followed the recommendation for installing the conda environment above, you should have it installed already. To make sure, check with `which trident` and `trident --version`.\n",
    "\n",
    "`trident` is a command line tool to manage Poseidon packages. Here we'll use it to automatically download packages that we need for this session. You can list all available packages like so:"
   ]
  },
  {
   "cell_type": "code",
   "execution_count": null,
   "id": "9a660bf7",
   "metadata": {},
   "outputs": [],
   "source": [
    "!trident list --remote --packages"
   ]
  },
  {
   "cell_type": "markdown",
   "id": "1ef1a4f6",
   "metadata": {},
   "source": [
    "Here we specifically need packages `2012_PattersonGenetics`, `2014_LazaridisNature` and `2019_Jeong_InnerEurasia`, which contain a lot of present-day individuals from around the world, and `2014_RaghavanNature`, which contains a famous 22,000 year old individual from Siberia. Let's fetch those packages and copy them into a local folder called `session_2/poseidon-repository` within this repository:"
   ]
  },
  {
   "cell_type": "code",
   "execution_count": null,
   "id": "53f59f4f",
   "metadata": {
    "scrolled": true
   },
   "outputs": [],
   "source": [
    "!mkdir -p scratch/poseidon-repository\n",
    "# This will take a few seconds to pull the data from the server\n",
    "!trident fetch -d scratch/poseidon-repository -f \"*2012_PattersonGenetics*,*2014_LazaridisNature*,*2019_Jeong_InnerEurasia*,*2014_RaghavanNature*\""
   ]
  },
  {
   "cell_type": "markdown",
   "id": "fbf4f158",
   "metadata": {},
   "source": [
    "Great, now we have those packages. You can checkout the files, e.g.:"
   ]
  },
  {
   "cell_type": "code",
   "execution_count": null,
   "id": "bcf0af83",
   "metadata": {},
   "outputs": [],
   "source": [
    "!ls scratch/poseidon-repository/2014_LazaridisNature"
   ]
  },
  {
   "cell_type": "markdown",
   "id": "5a2648f2",
   "metadata": {},
   "source": [
    "And you can see three genotype files (`.bed`, `.bim` and `.fam`) and an annotation file ending with `.janno`."
   ]
  },
  {
   "cell_type": "markdown",
   "id": "57f8b877",
   "metadata": {},
   "source": [
    "You can also view lots of things about those packages using `trident`. For example:"
   ]
  },
  {
   "cell_type": "code",
   "execution_count": null,
   "id": "d81da059",
   "metadata": {},
   "outputs": [],
   "source": [
    "!trident list --groups -d scratch/poseidon-repository/"
   ]
  },
  {
   "cell_type": "markdown",
   "id": "b1db76f4",
   "metadata": {},
   "source": [
    "or:"
   ]
  },
  {
   "cell_type": "code",
   "execution_count": null,
   "id": "a6d19a4f",
   "metadata": {
    "scrolled": true
   },
   "outputs": [],
   "source": [
    "!trident summarise -d scratch/poseidon-repository"
   ]
  },
  {
   "cell_type": "markdown",
   "id": "86e4e7c6",
   "metadata": {},
   "source": [
    "OK, for further analysis we want to merge these two packages. In `trident` we can use the `forge` command for that. But we first need a population list to know what we like to extract and merge. For this session, such a list is already provided, named `forge_file.txt`.\n",
    "\n",
    "Let's look at the `forge_file.txt`:"
   ]
  },
  {
   "cell_type": "code",
   "execution_count": null,
   "id": "f9c463eb",
   "metadata": {},
   "outputs": [],
   "source": [
    "!head forge_file.txt"
   ]
  },
  {
   "cell_type": "markdown",
   "id": "08c20b8e",
   "metadata": {},
   "source": [
    "OK, so there are many population names here, here is how many:"
   ]
  },
  {
   "cell_type": "code",
   "execution_count": null,
   "id": "f82314d2",
   "metadata": {},
   "outputs": [],
   "source": [
    "!wc -l forge_file.txt"
   ]
  },
  {
   "cell_type": "markdown",
   "id": "88478e57",
   "metadata": {},
   "source": [
    "So 120 populations. Let's use them to forge a new Poseidon package that contains only the genotype and metadata for individuals that belong to one of these 120 groups. Forge takes a number of options (check them out using `trident forge --help`), here we're just using a basic sequence of options (note this will take a few minutes):"
   ]
  },
  {
   "cell_type": "code",
   "execution_count": null,
   "id": "b74dbf8f",
   "metadata": {
    "scrolled": true,
    "tags": []
   },
   "outputs": [],
   "source": [
    "!trident forge -d scratch/poseidon-repository -o scratch/forged_package -n PCA_package_1 --forgeFile forge_file.txt --intersect --eigenstrat "
   ]
  },
  {
   "cell_type": "markdown",
   "id": "bcc7034e",
   "metadata": {},
   "source": [
    "Congratulations. You now have your genotype data ready to be used to compute PCAs and friends."
   ]
  }
 ],
 "metadata": {
  "kernelspec": {
   "display_name": "Python 3 (ipykernel)",
   "language": "python",
   "name": "python3"
  },
  "language_info": {
   "codemirror_mode": {
    "name": "ipython",
    "version": 3
   },
   "file_extension": ".py",
   "mimetype": "text/x-python",
   "name": "python",
   "nbconvert_exporter": "python",
   "pygments_lexer": "ipython3",
   "version": "3.7.10"
  }
 },
 "nbformat": 4,
 "nbformat_minor": 5
}
