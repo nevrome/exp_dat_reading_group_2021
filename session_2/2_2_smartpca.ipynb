{
 "cells": [
  {
   "cell_type": "markdown",
   "id": "0e89183d",
   "metadata": {},
   "source": [
    "# Running PCA\n",
    "## The parameter file\n",
    "Now that we have our merged dataset, it is time to prepare our `smartpca` run. For this, we will require a parameter file, which specifies all the parameters for our run. A typical paramater file looks like this:\n",
    "```\n",
    "## Input genotype dataset\n",
    "genotypename:   forged_package/PCA_package_1.geno   ## Genotype data\n",
    "snpname:    forged_package/PCA_package_1.snp        ## SNP information\n",
    "indivname:  forged_package/PCA_package_1.ind        ## Individual information\n",
    "\n",
    "## Desired output eigenvector and eigenvalue files\n",
    "evecoutname:    smartpca_runs/poplist1/PCA_poplist1.evec           ## Eigenvectors\n",
    "evaloutname:    smartpca_runs/poplist1/PCA_poplist1.eval           ## Eigenvalues\n",
    "\n",
    "## The list of populations used in the PC calculation\n",
    "poplistname:    PCA_poplists/PCA_poplist1.txt\n",
    "\n",
    "## Other options\n",
    "lsqproject: YES     ## Project individuals not included in PC calculation onto the PCs\n",
    "outliermode: 2      ## Turns off automatic outlier removal.\n",
    "numoutevec:  4       ## The number of eigenvectors to print per sample. Default is 10.\n",
    "# numthreads: 1     ## How many parallel threads to use.\n",
    "## Many more options exist. See https://github.com/DReichLab/EIG/tree/master/POPGEN for a full list.\n",
    "```\n",
    "\n",
    "So let's add this information to our first parameter file!"
   ]
  },
  {
   "cell_type": "code",
   "execution_count": null,
   "id": "87b8e438",
   "metadata": {},
   "outputs": [],
   "source": [
    "%%bash\n",
    "\n",
    "mkdir -p scratch/smartpca_runs/poplist1 scratch/smartpca_runs/poplist2/\n",
    "\n",
    "cat <<EOF > scratch/smartpca_runs/poplist1/parameters.par\n",
    "genotypename:   scratch/forged_package/PCA_package_1.geno   ## Genotype data\n",
    "snpname:    scratch/forged_package/PCA_package_1.snp        ## SNP information\n",
    "indivname:  scratch/forged_package/PCA_package_1.ind        ## Individual information\n",
    "\n",
    "evecoutname:    scratch/smartpca_runs/poplist1/PCA_poplist1.evec           ## Eigenvectors\n",
    "evaloutname:    scratch/smartpca_runs/poplist1/PCA_poplist1.eval           ## Eigenvalues\n",
    "\n",
    "poplistname:    PCA_poplists/PCA_poplist1.txt\n",
    "\n",
    "lsqproject: YES     ## Project individuals not included in PC calculation onto the PCs\n",
    "outliermode: 2      ## Turns off automatic outlier removal.\n",
    "numoutevec:  4       ## The number of eigenvectors to print per sample. Default is 10.\n",
    "EOF\n"
   ]
  },
  {
   "cell_type": "markdown",
   "id": "95d0715a",
   "metadata": {},
   "source": [
    "(The syntax with the `<<EOF` is called a [Heredoc](https://tldp.org/LDP/abs/html/here-docs.html))"
   ]
  },
  {
   "cell_type": "markdown",
   "id": "7c332a15",
   "metadata": {},
   "source": [
    "### Running smartpca\n",
    "The poplist we just used contains various present-day Eurasian populations genotyped on the Human Origins array. Now that we made the parameter file, we are ready to run `smartpca`."
   ]
  },
  {
   "cell_type": "code",
   "execution_count": null,
   "id": "021147ae",
   "metadata": {},
   "outputs": [],
   "source": [
    "## Runtime of about 7 min\n",
    "!smartpca -p scratch/smartpca_runs/poplist1/parameters.par"
   ]
  },
  {
   "cell_type": "markdown",
   "id": "08ec7847",
   "metadata": {},
   "source": [
    "Once your run completes, you can look at the two output files. `smartpca_runs/poplist1/PCA_poplist1.evec` conntains the eigenvectors of each individual (i.e. their position in PCA space), while the `smartpca_runs/poplist1/PCA_poplist1.eval` file contains the eigenvalue of each of the n-1 eigenvectors."
   ]
  },
  {
   "cell_type": "code",
   "execution_count": null,
   "id": "569c7c53",
   "metadata": {},
   "outputs": [],
   "source": [
    "!ls scratch/smartpca_runs/poplist1/"
   ]
  },
  {
   "cell_type": "code",
   "execution_count": null,
   "id": "aa8275c6",
   "metadata": {},
   "outputs": [],
   "source": [
    "!head scratch/smartpca_runs/poplist1/PCA_poplist1.evec"
   ]
  },
  {
   "cell_type": "markdown",
   "id": "a9f8bc51",
   "metadata": {},
   "source": [
    "### Changing poplist\n",
    "Now, let's see how much a change to the poplist will affect the calculated eigenvectors! We have prepared a second poplist, `PCA_poplists/PCA_poplist2.txt` that includes 6 more populations than the first one. parWhich populations are these?"
   ]
  },
  {
   "cell_type": "code",
   "execution_count": null,
   "id": "2aa3e363",
   "metadata": {},
   "outputs": [],
   "source": [
    "!wc -l PCA_poplists/*"
   ]
  },
  {
   "cell_type": "code",
   "execution_count": null,
   "id": "56a99b74",
   "metadata": {},
   "outputs": [],
   "source": [
    "!diff -y --suppress-common-lines PCA_poplists/PCA_poplist1.txt PCA_poplists/PCA_poplist2.txt"
   ]
  },
  {
   "cell_type": "markdown",
   "id": "da28c37c",
   "metadata": {},
   "source": [
    "All six of these populations are Native American populations from areas between the southern United States and the Amazon. We can quickly edit the desired output files and poplist of the existing parameter file to create the parameter file we will need for this run."
   ]
  },
  {
   "cell_type": "code",
   "execution_count": null,
   "id": "279248df",
   "metadata": {},
   "outputs": [],
   "source": [
    "!sed 's/poplist1/poplist2/g' scratch/smartpca_runs/poplist1/parameters.par > scratch/smartpca_runs/poplist2/parameters.par\n",
    "!cat scratch/smartpca_runs/poplist2/parameters.par"
   ]
  },
  {
   "cell_type": "markdown",
   "id": "23174588",
   "metadata": {},
   "source": [
    "Looks good! Next, we should run `smartpca` with the new parameters."
   ]
  },
  {
   "cell_type": "code",
   "execution_count": null,
   "id": "8a34aca6",
   "metadata": {},
   "outputs": [],
   "source": [
    "## Runtime of about 7 min\n",
    "!smartpca -p scratch/smartpca_runs/poplist2/parameters.par"
   ]
  },
  {
   "cell_type": "code",
   "execution_count": null,
   "id": "81b8423d",
   "metadata": {},
   "outputs": [],
   "source": [
    "!ls scratch/smartpca_runs/poplist2/"
   ]
  },
  {
   "cell_type": "markdown",
   "id": "460e5cb1",
   "metadata": {},
   "source": [
    "### Running without a poplist\n",
    "Finally, we can skip projection entirely and simply run PCA on all our samples."
   ]
  },
  {
   "cell_type": "code",
   "execution_count": null,
   "id": "79b75355",
   "metadata": {
    "scrolled": false
   },
   "outputs": [],
   "source": [
    "!mkdir -p scratch/smartpca_runs/all_pops\n",
    "!head -n 7 scratch/smartpca_runs/poplist1/parameters.par | sed 's/poplist1/all_pops/g' > scratch/smartpca_runs/all_pops/parameters.par\n",
    "!tail -n 2 scratch/smartpca_runs/poplist1/parameters.par >> scratch/smartpca_runs/all_pops/parameters.par\n",
    "!echo \"maxpops: 200\" >> scratch/smartpca_runs/all_pops/parameters.par\n",
    "!cat scratch/smartpca_runs/all_pops/parameters.par"
   ]
  },
  {
   "cell_type": "code",
   "execution_count": null,
   "id": "8f280137",
   "metadata": {
    "scrolled": false
   },
   "outputs": [],
   "source": [
    "## Runtime of about 6 minutes. 8 threads.\n",
    "!smartpca -p scratch/smartpca_runs/all_pops/parameters.par"
   ]
  },
  {
   "cell_type": "code",
   "execution_count": null,
   "id": "bf701e08",
   "metadata": {},
   "outputs": [],
   "source": [
    "!ls scratch/smartpca_runs/all_pops/"
   ]
  },
  {
   "cell_type": "markdown",
   "id": "fa1421eb",
   "metadata": {},
   "source": [
    "## Making a PCA plot\n",
    "Now that we have the eigenvectors of our data, it is time to plot them! For this we will use `R` and its `ggplot2` package. We will need to install the `poseidonR` package, which deals with the parsing of poseidon metadata from the forged package. Once that is done, we can load our data."
   ]
  },
  {
   "cell_type": "code",
   "execution_count": null,
   "id": "74e3ccfa",
   "metadata": {},
   "outputs": [],
   "source": [
    "## Activate R in jupyter notebook\n",
    "%load_ext rpy2.ipython"
   ]
  },
  {
   "cell_type": "code",
   "execution_count": null,
   "id": "275b1b1f",
   "metadata": {
    "scrolled": true
   },
   "outputs": [],
   "source": [
    "%%R\n",
    "library(tidyverse)\n",
    "\n",
    "if(!require('remotes')) install.packages('remotes')\n",
    "if (!require('poseidonR')) remotes::install_github('poseidon-framework/poseidonR')\n",
    "\n",
    "## Load in poplist data\n",
    "poplist1 <- readr::read_tsv(\"PCA_poplists/PCA_poplist1.txt\", col_names = \"Pops\", col_types = 'c')\n",
    "poplist2 <- readr::read_tsv(\"PCA_poplists/PCA_poplist2.txt\", col_names = \"Pops\", col_types = 'c')\n",
    "\n",
    "## Load in eigenvector data\n",
    "PCA_poplist1_ev <- readr::read_fwf(\"scratch/smartpca_runs/poplist1/PCA_poplist1.evec\", col_positions=readr::fwf_widths(c(20,11,12,12,12,17), col_names = c(\"Ind\",\"PC1\",\"PC2\",\"PC3\",\"PC4\",\"Pop\")), col_types = 'cnnnnc', comment=\"#\")\n",
    "PCA_poplist2_ev <- readr::read_fwf(\"scratch/smartpca_runs/poplist2/PCA_poplist2.evec\", col_positions=readr::fwf_widths(c(20,11,12,12,12,17), col_names = c(\"Ind\",\"PC1\",\"PC2\",\"PC3\",\"PC4\",\"Pop\")), col_types = 'cnnnnc', comment=\"#\")\n",
    "PCA_all_pops_ev <- readr::read_fwf(\"scratch/smartpca_runs/all_pops/PCA_all_pops.evec\", col_positions=readr::fwf_widths(c(20,11,12,12,12,17), col_names = c(\"Ind\",\"PC1\",\"PC2\",\"PC3\",\"PC4\",\"Pop\")), col_types = 'cnnnnc', comment=\"#\")\n",
    "\n",
    "## Finally, we load in the metadata from the forged package annotation file (janno). Here, we keep only the individual Ids, country and their Lat/Lon position.\n",
    "metadata<-poseidonR::read_janno(\"scratch/forged_package/PCA_package_1.janno\", to_janno=F)%>% select(Individual_ID, Latitude, Longitude, Country) %>% mutate(Longitude=as.double(Longitude), Latitude=as.double(Latitude))\n",
    "\n",
    "## Finally, we add the Lat/Lon information to our datasets\n",
    "PCA_poplist1_ev <- left_join(PCA_poplist1_ev, metadata, by=c(\"Ind\"=\"Individual_ID\")) %>% mutate(Country=as.factor(Country))\n",
    "PCA_poplist2_ev <- left_join(PCA_poplist2_ev, metadata, by=c(\"Ind\"=\"Individual_ID\")) %>% mutate(Country=as.factor(Country))\n",
    "PCA_all_pops_ev <- left_join(PCA_all_pops_ev, metadata, by=c(\"Ind\"=\"Individual_ID\")) %>% mutate(Country=as.factor(Country))\n",
    "\n"
   ]
  },
  {
   "cell_type": "markdown",
   "id": "6e3e9069",
   "metadata": {},
   "source": [
    "With our smartpca output loaded into memory, we can now create a (crude) PCA plot"
   ]
  },
  {
   "cell_type": "code",
   "execution_count": null,
   "id": "0b081484",
   "metadata": {},
   "outputs": [],
   "source": [
    "%%R\n",
    "## First we subset the dataset to only the populations in the poplist\n",
    "moderns_pl1 <- PCA_poplist1_ev %>% filter(Pop %in% poplist1$Pops)\n",
    "\n",
    "\n",
    "p <- ggplot() +\n",
    "     coord_equal(xlim=c(-0.03,0.05)) +\n",
    "     theme_minimal()\n",
    "\n",
    "p + geom_point(\n",
    "        data=moderns_pl1, ##The input data for plotting\n",
    "        aes(x=PC1, y=PC2) ## Define the x and y axis\n",
    "        )\n"
   ]
  },
  {
   "cell_type": "markdown",
   "id": "dca6f2c7",
   "metadata": {},
   "source": [
    "Within each smartpca run the direction of the eigenvectors is set randomly, meaning that your PCA plot might look very different to the one made by the person next to you. As was said in last week's session, the direction of the eigenvectors holds no specific meaning, so we can freely flip the axes of our PCA plot.\n",
    "\n",
    "Often, the PCA plot has its axes rotated to (more or less) match with geography. First, let's see how Longiture and Latitude are correlated with our PCs by colouring the points by these values."
   ]
  },
  {
   "cell_type": "code",
   "execution_count": null,
   "id": "c16d5bcc",
   "metadata": {},
   "outputs": [],
   "source": [
    "%%R\n",
    "Lon_plot <- p +\n",
    "    geom_point(data=moderns_pl1, aes(x=PC1, y=PC2, col=Longitude)) ## Here we also define the colour of the points based on a variable\n",
    "\n",
    "Lat_plot <- p +\n",
    "    geom_point(data=moderns_pl1, aes(x=PC1, y=PC2, col=Latitude))\n",
    "\n",
    "gridExtra::grid.arrange(Lon_plot, Lat_plot, ncol=2)"
   ]
  },
  {
   "cell_type": "markdown",
   "id": "4e1176bb",
   "metadata": {},
   "source": [
    "It seems both Longitude and Latitude correlate strongly with a PC. Let's reorient or plot in that direction and instead, colour point by their country of origin."
   ]
  },
  {
   "cell_type": "code",
   "execution_count": null,
   "id": "c75b72f8",
   "metadata": {},
   "outputs": [],
   "source": [
    "%%R\n",
    "## Ensuruing the same \"orientation\" for all users.\n",
    "corner_inds_pl1 <- moderns_pl1 %>% select(Ind, PC1, PC2) %>% filter(Ind %in% c(\"HGDP00607\", \"Sir50\"))\n",
    "if (corner_inds_pl1$PC1[1] > corner_inds_pl1$PC1[2]) { PCA_poplist1_ev <- PCA_poplist1_ev %>% mutate(PC1=-PC1)}\n",
    "if (corner_inds_pl1$PC2[1] > corner_inds_pl1$PC2[2]) { PCA_poplist1_ev <- PCA_poplist1_ev %>% mutate(PC2=-PC2)}\n",
    "moderns_pl1 <- PCA_poplist1_ev %>% filter(Pop %in% poplist1$Pops)\n",
    "\n",
    "\n",
    "## Colour by country. \n",
    "PCA_plot_1 <- p +\n",
    "    geom_point(data=moderns_pl1, \n",
    "               aes(x=PC1, y=PC2, col=Country), \n",
    "               alpha=0.5    ## Makes points semi transparent.\n",
    "              )\n",
    "PCA_plot_1"
   ]
  },
  {
   "cell_type": "markdown",
   "id": "8f6f2b52",
   "metadata": {},
   "source": [
    "Our dataset included a single ancient individual, the 22,000 year old Siberian `MA1`. Let's add this projected individual to the plot as well."
   ]
  },
  {
   "cell_type": "code",
   "execution_count": null,
   "id": "76578477",
   "metadata": {},
   "outputs": [],
   "source": [
    "%%R\n",
    "PCA_plot_1 +\n",
    "    geom_point(\n",
    "        data=PCA_poplist1_ev %>% filter(Ind==\"MA1.SG\"), ## Extract MA1 from the entire dataset\n",
    "        aes(x=PC1, y=PC2),       ## Set the x and y axes for this set of points\n",
    "        pch=17                   ## Change shape of point to solid triangle\n",
    "    )"
   ]
  },
  {
   "cell_type": "markdown",
   "id": "3ed31644",
   "metadata": {},
   "source": [
    "We can now see that `MA1` is projected roughly halfway between northeastern Siberian populations and northeastern European populations. How would the PCA as a whole, and the position of this individual change if we changed our poplist? \n",
    "\n",
    "### Adding Native Americans\n",
    "Earlier we ran a second PCA, including some Native American populations in the poplist. Let's plot these results in the same way to see what happens."
   ]
  },
  {
   "cell_type": "code",
   "execution_count": null,
   "id": "da0ab087",
   "metadata": {},
   "outputs": [],
   "source": [
    "%%R\n",
    "## First we reorient the PCA\n",
    "corner_inds_pl2 <- PCA_poplist2_ev %>% select(Ind, PC1, PC2) %>% filter(Ind %in% c(\"HGDP00607\", \"Sir50\"))\n",
    "if (corner_inds_pl2$PC1[1] > corner_inds_pl2$PC1[2]) { PCA_poplist2_ev <- PCA_poplist2_ev %>% mutate(PC1=-PC1)}\n",
    "if (corner_inds_pl2$PC2[1] > corner_inds_pl2$PC2[2]) { PCA_poplist2_ev <- PCA_poplist2_ev %>% mutate(PC2=-PC2)}\n",
    "moderns_pl2 <- PCA_poplist2_ev %>% filter(Pop %in% poplist2$Pops)\n",
    "\n",
    "## Then we plot the output\n",
    "PCA_plot_2 <-  ggplot() +\n",
    "     coord_equal(xlim=c(-0.03,0.05)) +\n",
    "     theme_minimal() +\n",
    "     geom_point(data=moderns_pl2, \n",
    "               aes(x=PC1, y=PC2, col=Country), \n",
    "               alpha=0.5    ## Makes points semi transparent.\n",
    "               ) +\n",
    "     geom_point(\n",
    "        data=PCA_poplist2_ev %>% filter(Ind==\"MA1.SG\"), ## Extract MA1 from the entire dataset\n",
    "        aes(x=PC1, y=PC2),       ## Set the x and y axes for this set of points\n",
    "        pch=17                   ## Change shape of point to solid triangle\n",
    "     )\n",
    "PCA_plot_2"
   ]
  },
  {
   "cell_type": "markdown",
   "id": "3f6b37c5",
   "metadata": {},
   "source": [
    "The addition of Native American populations has changed the plot considerably! Due to their unique population history, including multiple population bottlenecks, Native American populations have drifted from Eurasian populations. These differences are captured in PC2.\n",
    "Importnantly, `MA1` is no longer projected between northeastern Siberians and northeastern Europeans, but further away from the Eurasian genetic variation, and \"pulled\" towards the cluster of Native American populations."
   ]
  },
  {
   "cell_type": "markdown",
   "id": "ce059559",
   "metadata": {},
   "source": [
    "### Using all the popluations in our dataset\n",
    "How would the position of `MA1` shift if it were not projected, but instead used in the PC calculation? Let's plot the results from our third smartpca run and see."
   ]
  },
  {
   "cell_type": "code",
   "execution_count": null,
   "id": "ba52ba65",
   "metadata": {
    "scrolled": false
   },
   "outputs": [],
   "source": [
    "%%R\n",
    "## First we reorient the PCA\n",
    "corner_inds_ap <- PCA_all_pops_ev %>% select(Ind, PC1, PC2) %>% filter(Ind %in% c(\"HGDP00607\", \"Sir50\"))\n",
    "if (corner_inds_ap$PC1[1] > corner_inds_ap$PC1[2]) { PCA_all_pops_ev <- PCA_all_pops_ev %>% mutate(PC1=-PC1)}\n",
    "if (corner_inds_ap$PC2[1] > corner_inds_ap$PC2[2]) { PCA_all_pops_ev <- PCA_all_pops_ev %>% mutate(PC2=-PC2)}\n",
    "moderns_ap <- PCA_all_pops_ev %>% filter(Pop %in% poplist2$Pops) ## Poplist 2 contains all the present-day populations.\n",
    "\n",
    "## Then we plot the output\n",
    "PCA_plot_ap <-  ggplot() +\n",
    "     coord_equal(xlim=c(-0.03,0.05)) +\n",
    "     theme_minimal() +\n",
    "     geom_point(data=moderns_ap, \n",
    "               aes(x=PC1, y=PC2, col=Country), \n",
    "               alpha=0.5    ## Makes points semi transparent.\n",
    "               ) +\n",
    "     geom_point(\n",
    "        data=PCA_all_pops_ev %>% filter(Ind==\"MA1.SG\"), ## Extract MA1 from the entire dataset\n",
    "        aes(x=PC1, y=PC2),       ## Set the x and y axes for this set of points\n",
    "        pch=17                   ## Change shape of point to solid triangle\n",
    "     )\n",
    "PCA_plot_ap"
   ]
  },
  {
   "cell_type": "markdown",
   "id": "0dd0bbcc",
   "metadata": {},
   "source": [
    "We will talk more about projection in next week's session, to try and understand why the position of `MA1` changes like it does. In the next section we will calculate pairwise distances between all individuals in our forged package, and use MDS to see how those results compare to this PCA."
   ]
  }
 ],
 "metadata": {
  "interpreter": {
   "hash": "aee8b7b246df8f9039afb4144a1f6fd8d2ca17a180786b69acc140d282b71a49"
  },
  "kernelspec": {
   "display_name": "Python 3 (ipykernel)",
   "language": "python",
   "name": "python3"
  },
  "language_info": {
   "codemirror_mode": {
    "name": "ipython",
    "version": 3
   },
   "file_extension": ".py",
   "mimetype": "text/x-python",
   "name": "python",
   "nbconvert_exporter": "python",
   "pygments_lexer": "ipython3",
   "version": "3.7.10"
  }
 },
 "nbformat": 4,
 "nbformat_minor": 5
}
