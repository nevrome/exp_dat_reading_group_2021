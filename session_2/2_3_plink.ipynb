{
 "cells": [
  {
   "cell_type": "markdown",
   "id": "117298dd",
   "metadata": {},
   "source": [
    "# Pairwise distance analysis with Plink"
   ]
  },
  {
   "cell_type": "code",
   "execution_count": null,
   "id": "f2d18e67",
   "metadata": {
    "scrolled": true
   },
   "outputs": [],
   "source": [
    "## Activate R in jupyter notebook\n",
    "%load_ext rpy2.ipython"
   ]
  },
  {
   "cell_type": "markdown",
   "id": "23dccb4e",
   "metadata": {},
   "source": [
    "You have already seen one way to visualise genotype data in low dimensions, using smartPCA. We now turn to another method, called MDS and implemented in the software package [Plink](https://zzz.bwh.harvard.edu/plink/).\n",
    "\n",
    "We will first have to convert the EIGENSTRAT-formatted genotype data that we produced via `trident forge` to Plink format. We can do that using `trident genoconvert`. Open a terminal window in jupyter (up on the left, the button with the plus sign, and then Terminal), and make sure you're in the right environment (e.g. run `conda activate PCA_and_friends`). Then switch to the `session_2` directory via `cd session_2` and then:\n"
   ]
  },
  {
   "cell_type": "code",
   "execution_count": null,
   "id": "6b81e6ff",
   "metadata": {},
   "outputs": [],
   "source": [
    "!trident genoconvert -d scratch/forged_package --outFormat PLINK"
   ]
  },
  {
   "cell_type": "markdown",
   "id": "5c1f8c02",
   "metadata": {},
   "source": [
    "\n",
    "We can now find the PLINK data in the same directory as the EIGENSTRAT data. Check it out by inspecting the file browser in Jupyter, or by running in the terminal:\n"
   ]
  },
  {
   "cell_type": "code",
   "execution_count": null,
   "id": "853871ba",
   "metadata": {},
   "outputs": [],
   "source": [
    "!ls scratch/forged_package/"
   ]
  },
  {
   "cell_type": "markdown",
   "id": "dbefca76",
   "metadata": {},
   "source": [
    "Where the `.bed`, `.bim` and `.fam` files are used in PLINK. In fact, they are automatically used whenever you use the option `--bfile forged_package/PCA_package` in plink. The first command we're gonna use is for computing pairwise distances of all individuals:\n"
   ]
  },
  {
   "cell_type": "code",
   "execution_count": null,
   "id": "6b2af0bd",
   "metadata": {},
   "outputs": [],
   "source": [
    "!plink --bfile scratch/forged_package/PCA_package_1 --distance-matrix --out scratch/pairwise_distances"
   ]
  },
  {
   "cell_type": "markdown",
   "id": "59103b8d",
   "metadata": {},
   "source": [
    "Now we can do stuff in R. Let's first load the individuals."
   ]
  },
  {
   "cell_type": "code",
   "execution_count": null,
   "id": "4f411f3b",
   "metadata": {},
   "outputs": [],
   "source": [
    "%%R\n",
    "inds <- readr::read_tsv(\"scratch/pairwise_distances.mdist.id\", col_types=\"cc\", col_names=c(\"Population\", \"Individual\"))\n",
    "inds"
   ]
  },
  {
   "cell_type": "code",
   "execution_count": null,
   "id": "3658ffb8",
   "metadata": {},
   "outputs": [],
   "source": [
    "%%R\n",
    "dist_mat <- matrix(scan(\"scratch/pairwise_distances.mdist\"), ncol=1666)\n",
    "dim(dist_mat)"
   ]
  },
  {
   "cell_type": "markdown",
   "id": "46505cf4",
   "metadata": {},
   "source": [
    "We can play a bit with trying to visualizing that massive 1666x1666 matrix, for example using the function `heatmap`:"
   ]
  },
  {
   "cell_type": "code",
   "execution_count": null,
   "id": "0f126741",
   "metadata": {
    "tags": []
   },
   "outputs": [],
   "source": [
    "%%R\n",
    "?heatmap"
   ]
  },
  {
   "cell_type": "markdown",
   "id": "c8604080",
   "metadata": {},
   "source": [
    "Let's first try and filter for a few populations:"
   ]
  },
  {
   "cell_type": "code",
   "execution_count": null,
   "id": "1fb16d3e",
   "metadata": {},
   "outputs": [],
   "source": [
    "%%R\n",
    "unique(inds$Population)"
   ]
  },
  {
   "cell_type": "code",
   "execution_count": null,
   "id": "dde4eddc",
   "metadata": {},
   "outputs": [],
   "source": [
    "%%R\n",
    "indices <- inds$Population %in% c('French', 'Greek', 'Nganasan')\n",
    "head(indices, 40)"
   ]
  },
  {
   "cell_type": "code",
   "execution_count": null,
   "id": "54bd3afc",
   "metadata": {},
   "outputs": [],
   "source": [
    "%%R\n",
    "heatmap(dist_mat[indices,indices], labRow = inds$Population[indices], labCol = inds$Population[indices])\n"
   ]
  },
  {
   "cell_type": "markdown",
   "id": "59a45d19",
   "metadata": {},
   "source": [
    "We need to load two libraries:"
   ]
  },
  {
   "cell_type": "code",
   "execution_count": null,
   "id": "60a52e5f",
   "metadata": {},
   "outputs": [],
   "source": [
    "%%R\n",
    "library(ggplot2)\n",
    "library(magrittr) # This is for the pipe operator %>%\n",
    "mds_coords <- cmdscale(dist_mat)\n",
    "colnames(mds_coords) <- c(\"C1\", \"C2\")\n",
    "mds_coords <- tibble::as_tibble(mds_coords) %>%\n",
    "    dplyr::bind_cols(inds)\n",
    "mds_coords"
   ]
  },
  {
   "cell_type": "code",
   "execution_count": null,
   "id": "466df009",
   "metadata": {
    "scrolled": false
   },
   "outputs": [],
   "source": [
    "%%R\n",
    "ggplot(mds_coords) + \n",
    "    geom_point(aes(x=C1, y=C2)) +\n",
    "    theme_minimal() +\n",
    "    coord_equal()"
   ]
  },
  {
   "cell_type": "markdown",
   "id": "a5a0e52b",
   "metadata": {},
   "source": [
    "We can then reorient these coordinates like we did the eigenvectors before."
   ]
  },
  {
   "cell_type": "code",
   "execution_count": null,
   "id": "46011f09",
   "metadata": {
    "scrolled": false
   },
   "outputs": [],
   "source": [
    "%%R\n",
    "corner_inds <- mds_coords %>% dplyr::select(Individual, C1, C2) %>% dplyr::filter(Individual %in% c(\"HGDP00607\", \"Sir50\"))\n",
    "if (corner_inds$C1[1] > corner_inds$C1[2]) { mds_coords <- mds_coords %>% mutate(C1=-C1)}\n",
    "if (corner_inds$C2[1] > corner_inds$C2[2]) { mds_coords <- mds_coords %>% mutate(C2=-C2)}\n",
    "\n",
    "ggplot(mds_coords) + \n",
    "    geom_point(aes(x=C1, y=C2)) +\n",
    "    theme_minimal() +\n",
    "    coord_equal()"
   ]
  },
  {
   "cell_type": "markdown",
   "id": "a47182ed",
   "metadata": {},
   "source": [
    "How does MDS compare to PCA if we restrict to the populations in `poplist1`?"
   ]
  },
  {
   "cell_type": "code",
   "execution_count": null,
   "id": "50142567",
   "metadata": {},
   "outputs": [],
   "source": [
    "%%R\n",
    "\n",
    "## Read in the poplist\n",
    "poplist1 <- readr::read_tsv(\"PCA_poplists/PCA_poplist1.txt\", col_names = \"Pops\", col_types = 'c')\n",
    "\n",
    "## Filter distance matrix\n",
    "indices_pl1 <- inds$Population %in% poplist1$Pops\n",
    "dist_mat[indices_pl1, indices_pl1]\n",
    "\n",
    "## Do MDS\n",
    "mds_coords_pl1 <- cmdscale(dist_mat[indices_pl1,indices_pl1])\n",
    "colnames(mds_coords_pl1) <- c(\"C1\", \"C2\")\n",
    "mds_coords_pl1 <- tibble::as_tibble(mds_coords_pl1) %>%\n",
    "    dplyr::bind_cols(inds %>% dplyr::filter(inds$Population %in% poplist1$Pops))\n",
    "mds_coords_pl1\n",
    "\n",
    "\n",
    "## Reorient\n",
    "corner_inds_mds1 <- mds_coords_pl1 %>% dplyr::select(Individual, C1, C2) %>% dplyr::filter(Individual %in% c(\"HGDP00607\", \"Sir50\"))\n",
    "if (corner_inds_mds1$C1[1] > corner_inds_mds1$C1[2]) { mds_coords_pl1 <- mds_coords_pl1 %>% mutate(C1=-C1)}\n",
    "if (corner_inds_mds1$C2[1] > corner_inds_mds1$C2[2]) { mds_coords_pl1 <- mds_coords_pl1 %>% mutate(C2=-C2)}\n",
    "\n",
    "## Plot\n",
    "ggplot(mds_coords_pl1) + \n",
    "    geom_point(aes(x=C1, y=C2)) +\n",
    "    theme_minimal() +\n",
    "    coord_equal()"
   ]
  }
 ],
 "metadata": {
  "kernelspec": {
   "display_name": "Python 3 (ipykernel)",
   "language": "python",
   "name": "python3"
  },
  "language_info": {
   "codemirror_mode": {
    "name": "ipython",
    "version": 3
   },
   "file_extension": ".py",
   "mimetype": "text/x-python",
   "name": "python",
   "nbconvert_exporter": "python",
   "pygments_lexer": "ipython3",
   "version": "3.7.10"
  }
 },
 "nbformat": 4,
 "nbformat_minor": 5
}
