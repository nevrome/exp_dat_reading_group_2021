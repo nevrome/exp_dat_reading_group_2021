{
 "cells": [
  {
   "cell_type": "markdown",
   "id": "76ed16e8-ebfa-4fb7-b0a2-f500f181762f",
   "metadata": {},
   "source": [
    "# Pairwise distance analysis with Plink"
   ]
  },
  {
   "cell_type": "markdown",
   "id": "5cbcbcd6-ab81-437e-92e7-0e1cf0ec9d8f",
   "metadata": {},
   "source": [
    "You have already seen one way to visualise genotype data in low dimensions, using smartPCA. We now turn to another method, called MDS and implemented in the software package [Plink](https://zzz.bwh.harvard.edu/plink/).\n",
    "\n",
    "We will first have to convert the EIGENSTRAT-formatted genotype data that we produced via `trident forge` to Plink format. We can do that using `trident genoconvert`:"
   ]
  },
  {
   "cell_type": "code",
   "execution_count": 1,
   "id": "c249e6e9-57b4-4a7e-bb9e-1f75e3eb658a",
   "metadata": {},
   "outputs": [
    {
     "name": "stdout",
     "output_type": "stream",
     "text": [
      "Searching POSEIDON.yml files... 1 found\n",
      "Initializing packages... \n",
      "\u001b[2K\u001b[1G> 1 \n",
      "Packages loaded: 1\n",
      "Converting genotype data in package PCA_package_1 to format PLINK:\n",
      "Processing SNPs...\n",
      "\u001b[2K\u001b[1G> 0 \u001b[2K\u001b[1G> 1000 \u001b[2K\u001b[1G> 2000 \u001b[2K\u001b[1G> 3000 \u001b[2K\u001b[1G> 4000 \u001b[2K\u001b[1G> 5000 \u001b[2K\u001b[1G> 6000 \u001b[2K\u001b[1G> 7000 \u001b[2K\u001b[1G> 8000 \u001b[2K\u001b[1G> 9000 \u001b[2K\u001b[1G> 10000 \u001b[2K\u001b[1G> 11000 \u001b[2K\u001b[1G> 12000 \u001b[2K\u001b[1G> 13000 \u001b[2K\u001b[1G> 14000 \u001b[2K\u001b[1G> 15000 \u001b[2K\u001b[1G> 16000 \u001b[2K\u001b[1G> 17000 \u001b[2K\u001b[1G> 18000 \u001b[2K\u001b[1G> 19000 \u001b[2K\u001b[1G> 20000 \u001b[2K\u001b[1G> 21000 \u001b[2K\u001b[1G> 22000 \u001b[2K\u001b[1G> 23000 \u001b[2K\u001b[1G> 24000 \u001b[2K\u001b[1G> 25000 \u001b[2K\u001b[1G> 26000 \u001b[2K\u001b[1G> 27000 \u001b[2K\u001b[1G> 28000 \u001b[2K\u001b[1G> 29000 \u001b[2K\u001b[1G> 30000 \u001b[2K\u001b[1G> 31000 \u001b[2K\u001b[1G> 32000 \u001b[2K\u001b[1G> 33000 \u001b[2K\u001b[1G> 34000 \u001b[2K\u001b[1G> 35000 \u001b[2K\u001b[1G> 36000 \u001b[2K\u001b[1G> 37000 \u001b[2K\u001b[1G> 38000 \u001b[2K\u001b[1G> 39000 \u001b[2K\u001b[1G> 40000 \u001b[2K\u001b[1G> 41000 \u001b[2K\u001b[1G> 42000 \u001b[2K\u001b[1G> 43000 \u001b[2K\u001b[1G> 44000 \u001b[2K\u001b[1G> 45000 \u001b[2K\u001b[1G> 46000 \u001b[2K\u001b[1G> 47000 \u001b[2K\u001b[1G> 48000 \u001b[2K\u001b[1G> 49000 \u001b[2K\u001b[1G> 50000 \u001b[2K\u001b[1G> 51000 \u001b[2K\u001b[1G> 52000 \u001b[2K\u001b[1G> 53000 \u001b[2K\u001b[1G> 54000 \u001b[2K\u001b[1G> 55000 \u001b[2K\u001b[1G> 56000 \u001b[2K\u001b[1G> 57000 \u001b[2K\u001b[1G> 58000 \u001b[2K\u001b[1G> 59000 \u001b[2K\u001b[1G> 60000 \u001b[2K\u001b[1G> 61000 \u001b[2K\u001b[1G> 62000 \u001b[2K\u001b[1G> 63000 \u001b[2K\u001b[1G> 64000 \u001b[2K\u001b[1G> 65000 \u001b[2K\u001b[1G> 66000 \u001b[2K\u001b[1G> 67000 \u001b[2K\u001b[1G> 68000 \u001b[2K\u001b[1G> 69000 \u001b[2K\u001b[1G> 70000 \u001b[2K\u001b[1G> 71000 \u001b[2K\u001b[1G> 72000 \u001b[2K\u001b[1G> 73000 \u001b[2K\u001b[1G> 74000 \u001b[2K\u001b[1G> 75000 \u001b[2K\u001b[1G> 76000 \u001b[2K\u001b[1G> 77000 \u001b[2K\u001b[1G> 78000 \u001b[2K\u001b[1G> 79000 \u001b[2K\u001b[1G> 80000 \u001b[2K\u001b[1G> 81000 \u001b[2K\u001b[1G> 82000 \u001b[2K\u001b[1G> 83000 \u001b[2K\u001b[1G> 84000 \u001b[2K\u001b[1G> 85000 \u001b[2K\u001b[1G> 86000 \u001b[2K\u001b[1G> 87000 \u001b[2K\u001b[1G> 88000 \u001b[2K\u001b[1G> 89000 \u001b[2K\u001b[1G> 90000 \u001b[2K\u001b[1G> 91000 \u001b[2K\u001b[1G> 92000 \u001b[2K\u001b[1G> 93000 \u001b[2K\u001b[1G> 94000 \u001b[2K\u001b[1G> 95000 \u001b[2K\u001b[1G> 96000 \u001b[2K\u001b[1G> 97000 \u001b[2K\u001b[1G> 98000 \u001b[2K\u001b[1G> 99000 \u001b[2K\u001b[1G> 100000 \u001b[2K\u001b[1G> 101000 \u001b[2K\u001b[1G> 102000 \u001b[2K\u001b[1G> 103000 \u001b[2K\u001b[1G> 104000 \u001b[2K\u001b[1G> 105000 \u001b[2K\u001b[1G> 106000 \u001b[2K\u001b[1G> 107000 \u001b[2K\u001b[1G> 108000 \u001b[2K\u001b[1G> 109000 \u001b[2K\u001b[1G> 110000 \u001b[2K\u001b[1G> 111000 \u001b[2K\u001b[1G> 112000 \u001b[2K\u001b[1G> 113000 \u001b[2K\u001b[1G> 114000 \u001b[2K\u001b[1G> 115000 \u001b[2K\u001b[1G> 116000 \u001b[2K\u001b[1G> 117000 \u001b[2K\u001b[1G> 118000 \u001b[2K\u001b[1G> 119000 \u001b[2K\u001b[1G> 120000 \u001b[2K\u001b[1G> 121000 \u001b[2K\u001b[1G> 122000 \u001b[2K\u001b[1G> 123000 \u001b[2K\u001b[1G> 124000 \u001b[2K\u001b[1G> 125000 \u001b[2K\u001b[1G> 126000 \u001b[2K\u001b[1G> 127000 \u001b[2K\u001b[1G> 128000 \u001b[2K\u001b[1G> 129000 \u001b[2K\u001b[1G> 130000 \u001b[2K\u001b[1G> 131000 \u001b[2K\u001b[1G> 132000 \u001b[2K\u001b[1G> 133000 \u001b[2K\u001b[1G> 134000 \u001b[2K\u001b[1G> 135000 \u001b[2K\u001b[1G> 136000 \u001b[2K\u001b[1G> 137000 \u001b[2K\u001b[1G> 138000 \u001b[2K\u001b[1G> 139000 \u001b[2K\u001b[1G> 140000 \u001b[2K\u001b[1G> 141000 \u001b[2K\u001b[1G> 142000 \u001b[2K\u001b[1G> 143000 \u001b[2K\u001b[1G> 144000 \u001b[2K\u001b[1G> 145000 \u001b[2K\u001b[1G> 146000 \u001b[2K\u001b[1G> 147000 \u001b[2K\u001b[1G> 148000 \u001b[2K\u001b[1G> 149000 \u001b[2K\u001b[1G> 150000 \u001b[2K\u001b[1G> 151000 \u001b[2K\u001b[1G> 152000 \u001b[2K\u001b[1G> 153000 \u001b[2K\u001b[1G> 154000 \u001b[2K\u001b[1G> 155000 \u001b[2K\u001b[1G> 156000 \u001b[2K\u001b[1G> 157000 \u001b[2K\u001b[1G> 158000 \u001b[2K\u001b[1G> 159000 \u001b[2K\u001b[1G> 160000 \u001b[2K\u001b[1G> 161000 \u001b[2K\u001b[1G> 162000 \u001b[2K\u001b[1G> 163000 \u001b[2K\u001b[1G> 164000 \u001b[2K\u001b[1G> 165000 \u001b[2K\u001b[1G> 166000 \u001b[2K\u001b[1G> 167000 \u001b[2K\u001b[1G> 168000 \u001b[2K\u001b[1G> 169000 \u001b[2K\u001b[1G> 170000 \u001b[2K\u001b[1G> 171000 \u001b[2K\u001b[1G> 172000 \u001b[2K\u001b[1G> 173000 \u001b[2K\u001b[1G> 174000 \u001b[2K\u001b[1G> 175000 \u001b[2K\u001b[1G> 176000 \u001b[2K\u001b[1G> 177000 \u001b[2K\u001b[1G> 178000 \u001b[2K\u001b[1G> 179000 \u001b[2K\u001b[1G> 180000 \u001b[2K\u001b[1G> 181000 \u001b[2K\u001b[1G> 182000 \u001b[2K\u001b[1G> 183000 \u001b[2K\u001b[1G> 184000 \u001b[2K\u001b[1G> 185000 \u001b[2K\u001b[1G> 186000 \u001b[2K\u001b[1G> 187000 \u001b[2K\u001b[1G> 188000 \u001b[2K\u001b[1G> 189000 \u001b[2K\u001b[1G> 190000 \u001b[2K\u001b[1G> 191000 \u001b[2K\u001b[1G> 192000 \u001b[2K\u001b[1G> 193000 \u001b[2K\u001b[1G> 194000 \u001b[2K\u001b[1G> 195000 \u001b[2K\u001b[1G> 196000 \u001b[2K\u001b[1G> 197000 \u001b[2K\u001b[1G> 198000 \u001b[2K\u001b[1G> 199000 \u001b[2K\u001b[1G> 200000 \u001b[2K\u001b[1G> 201000 \u001b[2K\u001b[1G> 202000 \u001b[2K\u001b[1G> 203000 \u001b[2K\u001b[1G> 204000 \u001b[2K\u001b[1G> 205000 \u001b[2K\u001b[1G> 206000 \u001b[2K\u001b[1G> 207000 \u001b[2K\u001b[1G> 208000 \u001b[2K\u001b[1G> 209000 \u001b[2K\u001b[1G> 210000 \u001b[2K\u001b[1G> 211000 \u001b[2K\u001b[1G> 212000 \u001b[2K\u001b[1G> 213000 \u001b[2K\u001b[1G> 214000 \u001b[2K\u001b[1G> 215000 \u001b[2K\u001b[1G> 216000 \u001b[2K\u001b[1G> 217000 \u001b[2K\u001b[1G> 218000 \u001b[2K\u001b[1G> 219000 \u001b[2K\u001b[1G> 220000 \u001b[2K\u001b[1G> 221000 \u001b[2K\u001b[1G> 222000 \u001b[2K\u001b[1G> 223000 \u001b[2K\u001b[1G> 224000 \u001b[2K\u001b[1G> 225000 \u001b[2K\u001b[1G> 226000 \u001b[2K\u001b[1G> 227000 \u001b[2K\u001b[1G> 228000 \u001b[2K\u001b[1G> 229000 \u001b[2K\u001b[1G> 230000 \u001b[2K\u001b[1G> 231000 \u001b[2K\u001b[1G> 232000 \u001b[2K\u001b[1G> 233000 \u001b[2K\u001b[1G> 234000 \u001b[2K\u001b[1G> 235000 \u001b[2K\u001b[1G> 236000 \u001b[2K\u001b[1G> 237000 \u001b[2K\u001b[1G> 238000 \u001b[2K\u001b[1G> 239000 \u001b[2K\u001b[1G> 240000 \u001b[2K\u001b[1G> 241000 \u001b[2K\u001b[1G> 242000 \u001b[2K\u001b[1G> 243000 \u001b[2K\u001b[1G> 244000 \u001b[2K\u001b[1G> 245000 \u001b[2K\u001b[1G> 246000 \u001b[2K\u001b[1G> 247000 \u001b[2K\u001b[1G> 248000 \u001b[2K\u001b[1G> 249000 \u001b[2K\u001b[1G> 250000 \u001b[2K\u001b[1G> 251000 \u001b[2K\u001b[1G> 252000 \u001b[2K\u001b[1G> 253000 \u001b[2K\u001b[1G> 254000 \u001b[2K\u001b[1G> 255000 \u001b[2K\u001b[1G> 256000 \u001b[2K\u001b[1G> 257000 \u001b[2K\u001b[1G> 258000 \u001b[2K\u001b[1G> 259000 \u001b[2K\u001b[1G> 260000 \u001b[2K\u001b[1G> 261000 \u001b[2K\u001b[1G> 262000 \u001b[2K\u001b[1G> 263000 \u001b[2K\u001b[1G> 264000 \u001b[2K\u001b[1G> 265000 \u001b[2K\u001b[1G> 266000 \u001b[2K\u001b[1G> 267000 \u001b[2K\u001b[1G> 268000 \u001b[2K\u001b[1G> 269000 \u001b[2K\u001b[1G> 270000 \u001b[2K\u001b[1G> 271000 \u001b[2K\u001b[1G> 272000 \u001b[2K\u001b[1G> 273000 \u001b[2K\u001b[1G> 274000 \u001b[2K\u001b[1G> 275000 \u001b[2K\u001b[1G> 276000 \u001b[2K\u001b[1G> 277000 \u001b[2K\u001b[1G> 278000 \u001b[2K\u001b[1G> 279000 \u001b[2K\u001b[1G> 280000 \u001b[2K\u001b[1G> 281000 \u001b[2K\u001b[1G> 282000 \u001b[2K\u001b[1G> 283000 \u001b[2K\u001b[1G> 284000 \u001b[2K\u001b[1G> 285000 \u001b[2K\u001b[1G> 286000 \u001b[2K\u001b[1G> 287000 \u001b[2K\u001b[1G> 288000 \u001b[2K\u001b[1G> 289000 \u001b[2K\u001b[1G> 290000 \u001b[2K\u001b[1G> 291000 \u001b[2K\u001b[1G> 292000 \u001b[2K\u001b[1G> 293000 \u001b[2K\u001b[1G> 294000 \u001b[2K\u001b[1G> 295000 \u001b[2K\u001b[1G> 296000 \u001b[2K\u001b[1G> 297000 \u001b[2K\u001b[1G> 298000 \u001b[2K\u001b[1G> 299000 \u001b[2K\u001b[1G> 300000 \u001b[2K\u001b[1G> 301000 \u001b[2K\u001b[1G> 302000 \u001b[2K\u001b[1G> 303000 \u001b[2K\u001b[1G> 304000 \u001b[2K\u001b[1G> 305000 \u001b[2K\u001b[1G> 306000 \u001b[2K\u001b[1G> 307000 \u001b[2K\u001b[1G> 308000 \u001b[2K\u001b[1G> 309000 \u001b[2K\u001b[1G> 310000 \u001b[2K\u001b[1G> 311000 \u001b[2K\u001b[1G> 312000 \u001b[2K\u001b[1G> 313000 \u001b[2K\u001b[1G> 314000 \u001b[2K\u001b[1G> 315000 \u001b[2K\u001b[1G> 316000 \u001b[2K\u001b[1G> 317000 \u001b[2K\u001b[1G> 318000 \u001b[2K\u001b[1G> 319000 \u001b[2K\u001b[1G> 320000 \u001b[2K\u001b[1G> 321000 \u001b[2K\u001b[1G> 322000 \u001b[2K\u001b[1G> 323000 \u001b[2K\u001b[1G> 324000 \u001b[2K\u001b[1G> 325000 \u001b[2K\u001b[1G> 326000 \u001b[2K\u001b[1G> 327000 \u001b[2K\u001b[1G> 328000 \u001b[2K\u001b[1G> 329000 \u001b[2K\u001b[1G> 330000 \u001b[2K\u001b[1G> 331000 \u001b[2K\u001b[1G> 332000 \u001b[2K\u001b[1G> 333000 \u001b[2K\u001b[1G> 334000 \u001b[2K\u001b[1G> 335000 \u001b[2K\u001b[1G> 336000 \u001b[2K\u001b[1G> 337000 \u001b[2K\u001b[1G> 338000 \u001b[2K\u001b[1G> 339000 \u001b[2K\u001b[1G> 340000 \u001b[2K\u001b[1G> 341000 \u001b[2K\u001b[1G> 342000 \u001b[2K\u001b[1G> 343000 \u001b[2K\u001b[1G> 344000 \u001b[2K\u001b[1G> 345000 \u001b[2K\u001b[1G> 346000 \u001b[2K\u001b[1G> 347000 \u001b[2K\u001b[1G> 348000 \u001b[2K\u001b[1G> 349000 \u001b[2K\u001b[1G> 350000 \u001b[2K\u001b[1G> 351000 \u001b[2K\u001b[1G> 352000 \u001b[2K\u001b[1G> 353000 \u001b[2K\u001b[1G> 354000 \u001b[2K\u001b[1G> 355000 \u001b[2K\u001b[1G> 356000 \u001b[2K\u001b[1G> 357000 \u001b[2K\u001b[1G> 358000 \u001b[2K\u001b[1G> 359000 \u001b[2K\u001b[1G> 360000 \u001b[2K\u001b[1G> 361000 \u001b[2K\u001b[1G> 362000 \u001b[2K\u001b[1G> 363000 \u001b[2K\u001b[1G> 364000 \u001b[2K\u001b[1G> 365000 \u001b[2K\u001b[1G> 366000 \u001b[2K\u001b[1G> 367000 \u001b[2K\u001b[1G> 368000 \u001b[2K\u001b[1G> 369000 \u001b[2K\u001b[1G> 370000 \u001b[2K\u001b[1G> 371000 \u001b[2K\u001b[1G> 372000 \u001b[2K\u001b[1G> 373000 \u001b[2K\u001b[1G> 374000 \u001b[2K\u001b[1G> 375000 \u001b[2K\u001b[1G> 376000 \u001b[2K\u001b[1G> 377000 \u001b[2K\u001b[1G> 378000 \u001b[2K\u001b[1G> 379000 \u001b[2K\u001b[1G> 380000 \u001b[2K\u001b[1G> 381000 \u001b[2K\u001b[1G> 382000 \u001b[2K\u001b[1G> 383000 \u001b[2K\u001b[1G> 384000 \u001b[2K\u001b[1G> 385000 \u001b[2K\u001b[1G> 386000 \u001b[2K\u001b[1G> 387000 \u001b[2K\u001b[1G> 388000 \u001b[2K\u001b[1G> 389000 \u001b[2K\u001b[1G> 390000 \u001b[2K\u001b[1G> 391000 \u001b[2K\u001b[1G> 392000 \u001b[2K\u001b[1G> 393000 \u001b[2K\u001b[1G> 394000 \u001b[2K\u001b[1G> 395000 \u001b[2K\u001b[1G> 396000 \u001b[2K\u001b[1G> 397000 \u001b[2K\u001b[1G> 398000 \u001b[2K\u001b[1G> 399000 \u001b[2K\u001b[1G> 400000 \u001b[2K\u001b[1G> 401000 \u001b[2K\u001b[1G> 402000 \u001b[2K\u001b[1G> 403000 \u001b[2K\u001b[1G> 404000 \u001b[2K\u001b[1G> 405000 \u001b[2K\u001b[1G> 406000 \u001b[2K\u001b[1G> 407000 \u001b[2K\u001b[1G> 408000 \u001b[2K\u001b[1G> 409000 \u001b[2K\u001b[1G> 410000 \u001b[2K\u001b[1G> 411000 \u001b[2K\u001b[1G> 412000 \u001b[2K\u001b[1G> 413000 \u001b[2K\u001b[1G> 414000 \u001b[2K\u001b[1G> 415000 \u001b[2K\u001b[1G> 416000 \u001b[2K\u001b[1G> 417000 \u001b[2K\u001b[1G> 418000 \u001b[2K\u001b[1G> 419000 \u001b[2K\u001b[1G> 420000 \u001b[2K\u001b[1G> 421000 \u001b[2K\u001b[1G> 422000 \u001b[2K\u001b[1G> 423000 \u001b[2K\u001b[1G> 424000 \u001b[2K\u001b[1G> 425000 \u001b[2K\u001b[1G> 426000 \u001b[2K\u001b[1G> 427000 \u001b[2K\u001b[1G> 428000 \u001b[2K\u001b[1G> 429000 \u001b[2K\u001b[1G> 430000 \u001b[2K\u001b[1G> 431000 \u001b[2K\u001b[1G> 432000 \u001b[2K\u001b[1G> 433000 \u001b[2K\u001b[1G> 434000 \u001b[2K\u001b[1G> 435000 \u001b[2K\u001b[1G> 436000 \u001b[2K\u001b[1G> 437000 \u001b[2K\u001b[1G> 438000 \u001b[2K\u001b[1G> 439000 \u001b[2K\u001b[1G> 440000 \u001b[2K\u001b[1G> 441000 \u001b[2K\u001b[1G> 442000 \u001b[2K\u001b[1G> 443000 \u001b[2K\u001b[1G> 444000 \u001b[2K\u001b[1G> 445000 \u001b[2K\u001b[1G> 446000 \u001b[2K\u001b[1G> 447000 \u001b[2K\u001b[1G> 448000 \u001b[2K\u001b[1G> 449000 \u001b[2K\u001b[1G> 450000 \u001b[2K\u001b[1G> 451000 \u001b[2K\u001b[1G> 452000 \u001b[2K\u001b[1G> 453000 \u001b[2K\u001b[1G> 454000 \u001b[2K\u001b[1G> 455000 \u001b[2K\u001b[1G> 456000 \u001b[2K\u001b[1G> 457000 \u001b[2K\u001b[1G> 458000 \u001b[2K\u001b[1G> 459000 \u001b[2K\u001b[1G> 460000 \u001b[2K\u001b[1G> 461000 \u001b[2K\u001b[1G> 462000 \u001b[2K\u001b[1G> 463000 \u001b[2K\u001b[1G> 464000 \u001b[2K\u001b[1G> 465000 \u001b[2K\u001b[1G> 466000 \u001b[2K\u001b[1G> 467000 \u001b[2K\u001b[1G> 468000 \u001b[2K\u001b[1G> 469000 \u001b[2K\u001b[1G> 470000 \u001b[2K\u001b[1G> 471000 \u001b[2K\u001b[1G> 472000 \u001b[2K\u001b[1G> 473000 \u001b[2K\u001b[1G> 474000 \u001b[2K\u001b[1G> 475000 \u001b[2K\u001b[1G> 476000 \u001b[2K\u001b[1G> 477000 \u001b[2K\u001b[1G> 478000 \u001b[2K\u001b[1G> 479000 \u001b[2K\u001b[1G> 480000 \u001b[2K\u001b[1G> 481000 \u001b[2K\u001b[1G> 482000 \u001b[2K\u001b[1G> 483000 \u001b[2K\u001b[1G> 484000 \u001b[2K\u001b[1G> 485000 \u001b[2K\u001b[1G> 486000 \u001b[2K\u001b[1G> 487000 \u001b[2K\u001b[1G> 488000 \u001b[2K\u001b[1G> 489000 \u001b[2K\u001b[1G> 490000 \u001b[2K\u001b[1G> 491000 \u001b[2K\u001b[1G> 492000 \u001b[2K\u001b[1G> 493000 \u001b[2K\u001b[1G> 494000 \u001b[2K\u001b[1G> 495000 \u001b[2K\u001b[1G> 496000 \u001b[2K\u001b[1G> 497000 \u001b[2K\u001b[1G> 498000 \u001b[2K\u001b[1G> 499000 \u001b[2K\u001b[1G> 500000 \u001b[2K\u001b[1G> 501000 \u001b[2K\u001b[1G> 502000 \u001b[2K\u001b[1G> 503000 \u001b[2K\u001b[1G> 504000 \u001b[2K\u001b[1G> 505000 \u001b[2K\u001b[1G> 506000 \u001b[2K\u001b[1G> 507000 \u001b[2K\u001b[1G> 508000 \u001b[2K\u001b[1G> 509000 \u001b[2K\u001b[1G> 510000 \u001b[2K\u001b[1G> 511000 \u001b[2K\u001b[1G> 512000 \u001b[2K\u001b[1G> 513000 \u001b[2K\u001b[1G> 514000 \u001b[2K\u001b[1G> 515000 \u001b[2K\u001b[1G> 516000 \u001b[2K\u001b[1G> 517000 \u001b[2K\u001b[1G> 518000 \u001b[2K\u001b[1G> 519000 \u001b[2K\u001b[1G> 520000 \u001b[2K\u001b[1G> 521000 \u001b[2K\u001b[1G> 522000 \u001b[2K\u001b[1G> 523000 \u001b[2K\u001b[1G> 524000 \u001b[2K\u001b[1G> 525000 \u001b[2K\u001b[1G> 526000 \u001b[2K\u001b[1G> 527000 \u001b[2K\u001b[1G> 528000 \u001b[2K\u001b[1G> 529000 \u001b[2K\u001b[1G> 530000 \u001b[2K\u001b[1G> 531000 \u001b[2K\u001b[1G> 532000 \u001b[2K\u001b[1G> 533000 \u001b[2K\u001b[1G> 534000 \u001b[2K\u001b[1G> 535000 \u001b[2K\u001b[1G> 536000 \u001b[2K\u001b[1G> 537000 \u001b[2K\u001b[1G> 538000 \u001b[2K\u001b[1G> 539000 \u001b[2K\u001b[1G> 540000 \u001b[2K\u001b[1G> 541000 \u001b[2K\u001b[1G> 542000 \u001b[2K\u001b[1G> 543000 \u001b[2K\u001b[1G> 544000 \u001b[2K\u001b[1G> 545000 \u001b[2K\u001b[1G> 546000 \u001b[2K\u001b[1G> 547000 \u001b[2K\u001b[1G> 548000 \u001b[2K\u001b[1G> 549000 \u001b[2K\u001b[1G> 550000 \u001b[2K\u001b[1G> 551000 \u001b[2K\u001b[1G> 552000 \u001b[2K\u001b[1G> 553000 \u001b[2K\u001b[1G> 554000 \u001b[2K\u001b[1G> 555000 \u001b[2K\u001b[1G> 556000 \u001b[2K\u001b[1G> 557000 \u001b[2K\u001b[1G> 558000 \u001b[2K\u001b[1G> 559000 \u001b[2K\u001b[1G> 560000 \u001b[2K\u001b[1G> 561000 \u001b[2K\u001b[1G> 562000 \u001b[2K\u001b[1G> 563000 \u001b[2K\u001b[1G> 564000 \u001b[2K\u001b[1G> 565000 \u001b[2K\u001b[1G> 566000 \u001b[2K\u001b[1G> 567000 \u001b[2K\u001b[1G> 568000 \u001b[2K\u001b[1G> 569000 \u001b[2K\u001b[1G> 570000 \u001b[2K\u001b[1G> 571000 \u001b[2K\u001b[1G> 572000 \u001b[2K\u001b[1G> 573000 \u001b[2K\u001b[1G> 574000 \u001b[2K\u001b[1G> 575000 \u001b[2K\u001b[1G> 576000 \u001b[2K\u001b[1G> 577000 \u001b[2K\u001b[1G> 578000 \u001b[2K\u001b[1G> 579000 \u001b[2K\u001b[1G> 580000 \u001b[2K\u001b[1G> 581000 \u001b[2K\u001b[1G> 582000 \u001b[2K\u001b[1G> 583000 \u001b[2K\u001b[1G> 584000 \u001b[2K\u001b[1G> 585000 \u001b[2K\u001b[1G> 586000 \u001b[2K\u001b[1G> 587000 \u001b[2K\u001b[1G> 588000 \u001b[2K\u001b[1G> 589000 \u001b[2K\u001b[1G> 590000 \u001b[2K\u001b[1G> 591000 \u001b[2K\u001b[1G> 592000 \u001b[2K\u001b[1G> 593000 \u001b[2K\u001b[1G> 594000 \u001b[2K\u001b[1G> 595000 \u001b[2K\u001b[1G> 596000 \u001b[2K\u001b[1G> 597000 Done\n"
     ]
    }
   ],
   "source": [
    "!trident genoconvert -d forged_package --outFormat PLINK"
   ]
  },
  {
   "cell_type": "markdown",
   "id": "43d127d0-e130-4ec4-b6eb-64b4c31f1d55",
   "metadata": {},
   "source": [
    "We can now find the PLINK data in the same directory as the EIGENSTRAT data:"
   ]
  },
  {
   "cell_type": "code",
   "execution_count": 2,
   "id": "609a48fe-9220-4425-97b9-501bf2149a7e",
   "metadata": {},
   "outputs": [
    {
     "name": "stdout",
     "output_type": "stream",
     "text": [
      "PCA_package_1.bed   PCA_package_1.fam   PCA_package_1.janno\n",
      "PCA_package_1.bib   PCA_package_1.geno  PCA_package_1.snp\n",
      "PCA_package_1.bim   PCA_package_1.ind   POSEIDON.yml\n"
     ]
    }
   ],
   "source": [
    "!ls forged_package/"
   ]
  },
  {
   "cell_type": "markdown",
   "id": "1304c4ef-be12-45d9-9ec5-19f0cd8a0469",
   "metadata": {},
   "source": [
    "Where the `.bed`, `.bim` and `.fam` files are used in PLINK. In fact, they are automatically used whenever you use the option `--bfile forged_package/PCA_package` in plink. The first command we're gonna use is for computing pairwise distances of all individuals:"
   ]
  },
  {
   "cell_type": "code",
   "execution_count": 4,
   "id": "85564843-b79d-400d-8644-e40e4491faca",
   "metadata": {},
   "outputs": [
    {
     "name": "stdout",
     "output_type": "stream",
     "text": [
      "PLINK v1.90b6.21 64-bit (19 Oct 2020)          www.cog-genomics.org/plink/1.9/\n",
      "(C) 2005-2020 Shaun Purcell, Christopher Chang   GNU General Public License v3\n",
      "Logging to pairwise_distances.log.\n",
      "Options in effect:\n",
      "  --bfile forged_package/PCA_package_1\n",
      "  --genome\n",
      "  --out pairwise_distances\n",
      "\n",
      "16384 MB RAM detected; reserving 8192 MB for main workspace.\n",
      "597573 variants loaded from .bim file.\n",
      "1666 people (1151 males, 504 females, 11 ambiguous) loaded from .fam.\n",
      "Ambiguous sex IDs written to pairwise_distances.nosex .\n",
      "Using up to 4 threads (change this with --threads).\n",
      "Before main variant filters, 1666 founders and 0 nonfounders present.\n",
      "Calculating allele frequencies... 10111213141516171819202122232425262728293031323334353637383940414243444546474849505152535455565758596061626364656667686970717273747576777879808182838485868788899091929394959697989 done.\n",
      "Warning: Nonmissing nonmale Y chromosome genotype(s) present; many commands\n",
      "treat these as missing.\n",
      "Total genotyping rate is 0.994538.\n",
      "597573 variants and 1666 people pass filters and QC.\n",
      "Note: No phenotypes present.\n",
      "Excluding 4449 variants on non-autosomes from IBD calculation.\n",
      "IBD calculations complete.  \n",
      "Finished writing pairwise_distances.genome .\n"
     ]
    }
   ],
   "source": [
    "!plink --bfile forged_package/PCA_package_1 --genome --out pairwise_distances"
   ]
  }
 ],
 "metadata": {
  "kernelspec": {
   "display_name": "Python 3 (ipykernel)",
   "language": "python",
   "name": "python3"
  },
  "language_info": {
   "codemirror_mode": {
    "name": "ipython",
    "version": 3
   },
   "file_extension": ".py",
   "mimetype": "text/x-python",
   "name": "python",
   "nbconvert_exporter": "python",
   "pygments_lexer": "ipython3",
   "version": "3.7.10"
  }
 },
 "nbformat": 4,
 "nbformat_minor": 5
}
