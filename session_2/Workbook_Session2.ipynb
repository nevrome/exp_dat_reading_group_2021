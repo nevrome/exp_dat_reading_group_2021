{
 "cells": [
  {
   "cell_type": "markdown",
   "id": "8a41afff",
   "metadata": {},
   "source": [
    "# PCA and Friends Session 2\n",
    "This is the second session, plannend for September 24, 2021. We're going to create our perform Principal Components for real genomic data and get our feed wet with some of the standard tools.\n",
    "\n",
    "## Prequisites\n",
    "In order to follow this session, we recommend that you first install miniconda (https://docs.conda.io/en/latest/miniconda.html). Once installed, you can use our environment file to easily install all the tools you need for this session.\n",
    "\n",
    "First, clone the github repository if you haven't done so already:\n",
    "\n",
    "```{bash}\n",
    "git clone https://github.com/stschiff/exp_dat_reading_group_2021.git\n",
    "cd exp_dat_reading_group_2021\n",
    "```\n",
    "\n",
    "If you have already cloned the repository you can make sure you have the latest update by running `git pull` inside of it.\n",
    "\n",
    "Once miniconda has been installed, you can install the environment via:\n",
    "\n",
    "```{bash}\n",
    "conda env create -f session_2/environment.yml\n",
    "conda activate PCA_session_2\n",
    "```\n",
    "That's it. Now you should have all the tools ready."
   ]
  },
  {
   "cell_type": "markdown",
   "id": "60952847",
   "metadata": {},
   "source": [
    "## Getting genotype data\n",
    "We are going to use Poseidon (https://poseidon-framework.github.io/#/) to easily retrieve genotype data together with some useful annotation. The tool for accessing the Poseidon package repository is named `trident`, and if you followed the recommendation for installing the conda environment above, you should have it installed already. To make sure, check with `which trident` and `trident --version`.\n",
    "\n",
    "`trident` is a command line tool to manage Poseidon packages. Here we'll use it to automatically download packages that we need for this session. You can list all available packages like so:"
   ]
  },
  {
   "cell_type": "code",
   "execution_count": 2,
   "id": "244402b6",
   "metadata": {},
   "outputs": [
    {
     "name": "stdout",
     "output_type": "stream",
     "text": [
      "Downloading sample list from remote\n",
      "Preparing output table\n",
      "found 146 packages\n",
      ".-----------------------------------------.----------------.\n",
      "|                  Title                  | Nr Individuals |\n",
      ":=========================================:================:\n",
      "| 2010_RasmussenNature                    | 1              |\n",
      "| 2012_KellerNatureCommunications         | 1              |\n",
      "| 2012_MeyerScience                       | 6              |\n",
      "| 2012_PattersonGenetics                  | 1036           |\n",
      "| 2012_PickrellNatureCommunications       | 9              |\n",
      "| 2014_FuNature                           | 1              |\n",
      "| 2014_GambaNatureCommunications          | 13             |\n",
      "| 2014_LazaridisNature                    | 1222           |\n",
      "| 2014_MalaspinasCurrentBiology           | 2              |\n",
      "| 2014_OlaldeNature                       | 1              |\n",
      "| 2014_RaghavanNature                     | 6              |\n",
      "| 2014_RaghavanScience                    | 4              |\n",
      "| 2014_RasmussenNature                    | 3              |\n",
      "| 2014_SeguinOrlandoScience               | 1              |\n",
      "| 2014_SkoglundScience                    | 11             |\n",
      "| 2015_1000Genomes_1240K_haploid_pulldown | 2535           |\n",
      "| 2015_AllentoftNature                    | 98             |\n",
      "| 2015_CassidyPNAS                        | 4              |\n",
      "| 2015_FuNature                           | 1              |\n",
      "| 2015_GuntherPNAS                        | 5              |\n",
      "| 2015_JonesNatureCommunications          | 3              |\n",
      "| 2015_LlorenteScience                    | 1              |\n",
      "| 2015_MathiesonNature                    | 142            |\n",
      "| 2015_OlaldeMBE                          | 1              |\n",
      "| 2015_RaghavanScience                    | 23             |\n",
      "| 2015_RasmussenNature                    | 1              |\n",
      "| 2016_BroushakiScience                   | 5              |\n",
      "| 2016_FuNature                           | 40             |\n",
      "| 2016_HofmanovaPNAS                      | 5              |\n",
      "| 2016_JeongPNAS                          | 8              |\n",
      "| 2016_KanzawaJHG                         | 5              |\n",
      "| 2016_KilincCurrentBiology               | 9              |\n",
      "| 2016_LazaridisNature                    | 169            |\n",
      "| 2016_Mallick_SGDP1240K_diploid_pulldown | 280            |\n",
      "| 2016_MartinianoNatureCommunications     | 9              |\n",
      "| 2016_MondalNatureGenetics               | 70             |\n",
      "| 2016_OmrakCurrentBiology                | 2              |\n",
      "| 2016_SchiffelsNatureCommunications      | 10             |\n",
      "| 2016_SkoglundNature                     | 74             |\n",
      "| 2017_GonzalesFortesCurrentBiology       | 6              |\n",
      "| 2017_HaberAJHG                          | 5              |\n",
      "| 2017_JonesCurrentBiology                | 8              |\n",
      "| 2017_KennettNatureCommunications        | 5              |\n",
      "| 2017_LazaridisNature                    | 20             |\n",
      "| 2017_LindoPNAS                          | 1              |\n",
      "| 2017_LipsonNature                       | 138            |\n",
      "| 2017_MartinianoPLoSGenetics             | 14             |\n",
      "| 2017_PrueferScience                     | 2              |\n",
      "| 2017_RodriguezVarelaCurrentBiology      | 5              |\n",
      "| 2017_SaagCurrentBiology                 | 7              |\n",
      "| 2017_SchlebuschScience                  | 7              |\n",
      "| 2017_Schuenemann_EgyptianMummies        | 3              |\n",
      "| 2017_SikoraScience                      | 7              |\n",
      "| 2017_SkoglundCell                       | 59             |\n",
      "| 2017_UnterlanderNatureCommunications    | 8              |\n",
      "| 2017_VanDenBrink                        | 2              |\n",
      "| 2017_VyasAJPA                           | 93             |\n",
      "| 2017_YangCurrentBiology                 | 1              |\n",
      "| 2018_AmorimNatureCommunications         | 63             |\n",
      "| 2018_DamgaardNature                     | 137            |\n",
      "| 2018_DamgaardScience                    | 111            |\n",
      "| 2018_Ebenesersdottir_Iceland            | 27             |\n",
      "| 2018_FernandesScientificReports         | 17             |\n",
      "| 2018_FregelPNAS                         | 12             |\n",
      "| 2018_GuntherPLoSBiology                 | 7              |\n",
      "| 2018_HarneyMayNatureCommunications      | 22             |\n",
      "| 2018_Jeong_EurasianSteppe               | 20             |\n",
      "| 2018_KrzewinskaCurrentBiology           | 23             |\n",
      "| 2018_KrzewinskaScienceAdvances          | 35             |\n",
      "| 2018_Lamnidis_Fennoscandia              | 16             |\n",
      "| 2018_LindoScienceAdvances               | 7              |\n",
      "| 2018_LipsonCurrentBiology               | 22             |\n",
      "| 2018_LipsonScience                      | 25             |\n",
      "| 2018_MathiesonNature                    | 226            |\n",
      "| 2018_McCollScience                      | 28             |\n",
      "| 2018_Mittnik_Baltic                     | 39             |\n",
      "| 2018_MorenoMayarNature                  | 2              |\n",
      "| 2018_MorenoMayarScience                 | 17             |\n",
      "| 2018_OlaldeNature                       | 398            |\n",
      "| 2018_PosthNatureEcologyEvolution        | 19             |\n",
      "| 2018_Posth_SouthAmerica                 | 50             |\n",
      "| 2018_ScheibScience                      | 75             |\n",
      "| 2018_SchroederPNAS                      | 1              |\n",
      "| 2018_ValdioseraPNAS                     | 11             |\n",
      "| 2018_VanDeLoosdrecht_Morrocco           | 7              |\n",
      "| 2018_VeeramahPNAS                       | 41             |\n",
      "| 2018_Zalloua_Phoenician                 | 1              |\n",
      "| 2018_delaFuentePNAS                     | 4              |\n",
      "| 2019_Antonio_AncientRome                | 134            |\n",
      "| 2019_Biagini_Spain                      | 120            |\n",
      "| 2019_BraceNatureEcologyEvolution        | 14             |\n",
      "| 2019_Brace_Britain                      | 56             |\n",
      "| 2019_Feldman_Anatolia                   | 8              |\n",
      "| 2019_Feldman_Philistines                | 10             |\n",
      "| 2019_Flegontov_PalaeoEskimo             | 107            |\n",
      "| 2019_GonzalesFortes_Iberia              | 4              |\n",
      "| 2019_Haber_Crusaders                    | 13             |\n",
      "| 2019_Harney_LakeRoopkund                | 38             |\n",
      "| 2019_Jarve_Scythian                     | 31             |\n",
      "| 2019_Jeong_InnerEurasia                 | 765            |\n",
      "| 2019_Malmstrom_Scandinavia              | 11             |\n",
      "| 2019_Mittnik_BAEurope                   | 118            |\n",
      "| 2019_Narasimhan_centralSouthAsia        | 542            |\n",
      "| 2019_Nikitin_LBK                        | 2              |\n",
      "| 2019_Ning_Tianshan                      | 11             |\n",
      "| 2019_Olalde_Iberia                      | 277            |\n",
      "| 2019_Prendergast_EastAfrica             | 43             |\n",
      "| 2019_Saag_EasternBaltic                 | 56             |\n",
      "| 2019_SanchezQuinto_Megalithic           | 26             |\n",
      "| 2019_Schroeder_Poland                   | 24             |\n",
      "| 2019_Shinde_Harappan                    | 1              |\n",
      "| 2019_Sikora_NorthEastSiberia            | 31             |\n",
      "| 2019_Villalba_Iberia                    | 11             |\n",
      "| 2019_Wang_Caucasus                      | 49             |\n",
      "| 2020_AgranatTamir_LevantBA              | 73             |\n",
      "| 2020_Bergstrom_HGDP                     | 929            |\n",
      "| 2020_Bongers_SouthPeru                  | 6              |\n",
      "| 2020_Brunel_France                      | 58             |\n",
      "| 2020_Cassidy_IrishDynastic              | 42             |\n",
      "| 2020_Fernandes_Caribbean                | 174            |\n",
      "| 2020_Fernandes_westernMediterranean     | 62             |\n",
      "| 2020_Furtwaengler_Switzerland           | 96             |\n",
      "| 2020_Haber_NearEast                     | 19             |\n",
      "| 2020_Immel_Moldova                      | 3              |\n",
      "| 2020_Linderholm_Poland                  | 19             |\n",
      "| 2020_Lipson_WestAfrica                  | 7              |\n",
      "| 2020_Marcus_Sardinia                    | 70             |\n",
      "| 2020_Margaryan_Viking                   | 442            |\n",
      "| 2020_Nagele_Caribbean                   | 93             |\n",
      "| 2020_Nakatsuka_Andes                    | 61             |\n",
      "| 2020_Nakatsuka_SouthPatagonia           | 20             |\n",
      "| 2020_NievesColon_PuertoRico             | 2              |\n",
      "| 2020_Ning_China                         | 55             |\n",
      "| 2020_Rivollat_FranceGermany             | 101            |\n",
      "| 2020_Skourtanioti_NearEast              | 110            |\n",
      "| 2020_TeschlerNicola_UpperPaleoTwin      | 3              |\n",
      "| 2020_Wang_subSaharanAfrica              | 20             |\n",
      "| 2020_Yang_China                         | 24             |\n",
      "| 2020_Yu_NorthRussia                     | 19             |\n",
      "| 2021_Freilich_Croatia                   | 28             |\n",
      "| 2021_GnecchiRuscone_KazakhSteppe        | 117            |\n",
      "| 2021_Kilinc_northeastAsia               | 40             |\n",
      "| 2021_Saag_EastEuropean                  | 47             |\n",
      "| 2021_Wang_EastAsia                      | 574            |\n",
      "| Archaic_Humans                          | 12             |\n",
      "| Reference_Genomes                       | 4              |\n",
      "'-----------------------------------------'----------------'\n"
     ]
    }
   ],
   "source": [
    "!trident list --remote --packages"
   ]
  },
  {
   "cell_type": "markdown",
   "id": "0169ae71",
   "metadata": {},
   "source": [
    "Here we specifically need package `2014_LazaridisNature`, which contains a lot of present-day individuals from around the world. Let's fetch that package and copy it into a local folder called `session_2/poseidon-repository` within this repository:"
   ]
  },
  {
   "cell_type": "code",
   "execution_count": 7,
   "id": "1abe878a",
   "metadata": {},
   "outputs": [
    {
     "name": "stdout",
     "output_type": "stream",
     "text": [
      "Searching POSEIDON.yml files... 0 found\n",
      "Initializing packages... \n",
      "\n",
      "Packages loaded: 0\n",
      "Downloading package list from remote\n",
      "Determine requested packages... 1 requested and available\n",
      "Comparing local and remote package state\n",
      "Handling packages\n",
      "2014_LazaridisNature                    > 90.9MB to download\n",
      "\u001b[2K\u001b[1G> 5.1% \u001b[2K\u001b[1G> 10.1% \u001b[2K\u001b[1G> 15.2% \u001b[2K\u001b[1G> 20.2% \u001b[2K\u001b[1G> 25.3% \u001b[2K\u001b[1G> 30.4% \u001b[2K\u001b[1G> 35.4% \u001b[2K\u001b[1G> 40.5% \u001b[2K\u001b[1G> 45.5% \u001b[2K\u001b[1G> 50.6% \u001b[2K\u001b[1G> 55.7% \u001b[2K\u001b[1G> 60.7% \u001b[2K\u001b[1G> 65.8% \u001b[2K\u001b[1G> 70.8% \u001b[2K\u001b[1G> 75.9% \u001b[2K\u001b[1G> 81.0% \u001b[2K\u001b[1G> 86.0% \u001b[2K\u001b[1G> 91.1% \u001b[2K\u001b[1G> 96.1% \u001b[2K\u001b[1G> 100.0% \n"
     ]
    }
   ],
   "source": [
    "!mkdir poseidon-repository\n",
    "!trident fetch -d poseidon-repository -f \"*2014_LazaridisNature*\""
   ]
  },
  {
   "cell_type": "markdown",
   "id": "c23ccd5f",
   "metadata": {},
   "source": [
    "Great, now we have that package. You can checkout the files:"
   ]
  },
  {
   "cell_type": "code",
   "execution_count": 9,
   "id": "a440fc20",
   "metadata": {},
   "outputs": [
    {
     "name": "stdout",
     "output_type": "stream",
     "text": [
      "2014_LazaridisNature.bed   2014_LazaridisNature.fam\r\n",
      "2014_LazaridisNature.bib   2014_LazaridisNature.janno\r\n",
      "2014_LazaridisNature.bim   POSEIDON.yml\r\n"
     ]
    }
   ],
   "source": [
    "!ls poseidon-repository/2014_LazaridisNature"
   ]
  },
  {
   "cell_type": "markdown",
   "id": "082b55a0",
   "metadata": {},
   "source": [
    "And you can see three genotype files (`.bed`, `.bim` and `.fam`) and an annotation file ending with `.janno`."
   ]
  }
 ],
 "metadata": {
  "kernelspec": {
   "display_name": "Python 3 (ipykernel)",
   "language": "python",
   "name": "python3"
  },
  "language_info": {
   "codemirror_mode": {
    "name": "ipython",
    "version": 3
   },
   "file_extension": ".py",
   "mimetype": "text/x-python",
   "name": "python",
   "nbconvert_exporter": "python",
   "pygments_lexer": "ipython3",
   "version": "3.7.1"
  }
 },
 "nbformat": 4,
 "nbformat_minor": 5
}
